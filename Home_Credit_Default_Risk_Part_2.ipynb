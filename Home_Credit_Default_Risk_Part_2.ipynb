{
 "cells": [
  {
   "cell_type": "markdown",
   "metadata": {},
   "source": [
    "# Data Description"
   ]
  },
  {
   "cell_type": "markdown",
   "metadata": {},
   "source": [
    "The data is provided by Home Credit, a service dedicated to provided lines of credit (loans) to the unbanked population. Predicting whether or not a client will repay a loan or have difficulty is a critical business need, and Home Credit is hosting this competition on Kaggle to see what sort of models the machine learning community can develop to help them in this task.\n",
    "\n",
    "There are 7 different sources of data:"
   ]
  },
  {
   "cell_type": "markdown",
   "metadata": {},
   "source": [
    "![data structure](img/home_credit.png)"
   ]
  },
  {
   "cell_type": "markdown",
   "metadata": {},
   "source": [
    "**1. application_{train|test}.csv**\n",
    "\n",
    ">This is the main table, broken into two files for Train (with TARGET) and Test (without TARGET).\n",
    "Static data for all applications. One row represents one loan in our data sample.\n",
    "\n",
    "**2. bureau.csv**\n",
    "\n",
    ">All client's previous credits provided by other financial institutions that were reported to Credit Bureau (for clients who have a loan in our sample).\n",
    "For every loan in our sample, there are as many rows as number of credits the client had in Credit Bureau before the application date.\n",
    "\n",
    "**3. bureau_balance.csv**\n",
    "\n",
    ">Monthly balances of previous credits in Credit Bureau.\n",
    "This table has one row for each month of history of every previous credit reported to Credit Bureau – i.e the table has (#loans in sample * # of relative previous credits * # of months where we have some history observable for the previous credits) rows.\n",
    "\n",
    "**4. POS_CASH_balance.csv**\n",
    "\n",
    ">Monthly balance snapshots of previous POS (point of sales) and cash loans that the applicant had with Home Credit.\n",
    "This table has one row for each month of history of every previous credit in Home Credit (consumer credit and cash loans) related to loans in our sample – i.e. the table has (#loans in sample * # of relative previous credits * # of months in which we have some history observable for the previous credits) rows.\n",
    "\n",
    "**5. credit_card_balance.csv**\n",
    "\n",
    ">Monthly balance snapshots of previous credit cards that the applicant has with Home Credit.\n",
    "This table has one row for each month of history of every previous credit in Home Credit (consumer credit and cash loans) related to loans in our sample – i.e. the table has (#loans in sample \\* # of relative previous credit cards \\* # of months where we have some history observable for the previous credit card) rows.\n",
    "\n",
    "\n",
    "**6. previous_application.csv**\n",
    "\n",
    ">All previous applications for Home Credit loans of clients who have loans in our sample.\n",
    "There is one row for each previous application related to loans in our data sample.\n",
    "\n",
    "**7. installments_payments.csv**\n",
    "\n",
    ">Repayment history for the previously disbursed credits in Home Credit related to the loans in our sample.\n",
    "There is a) one row for every payment that was made plus b) one row each for missed payment.\n",
    "One row is equivalent to one payment of one installment OR one installment corresponding to one payment of one previous Home Credit credit related to loans in our sample.\n",
    "\n",
    "\n",
    "**8. HomeCredit_columns_description.csv**\n",
    "\n",
    ">This file contains descriptions for the columns in the various data files."
   ]
  },
  {
   "cell_type": "markdown",
   "metadata": {},
   "source": [
    "# Part 2 Modeling with more sources of data"
   ]
  },
  {
   "cell_type": "markdown",
   "metadata": {},
   "source": [
    "You can download the [data](https://www.kaggle.com/c/home-credit-default-risk) from Kaggle."
   ]
  },
  {
   "cell_type": "code",
   "execution_count": 1,
   "metadata": {},
   "outputs": [],
   "source": [
    "%load_ext autoreload\n",
    "%autoreload 2"
   ]
  },
  {
   "cell_type": "code",
   "execution_count": 2,
   "metadata": {},
   "outputs": [],
   "source": [
    "import pandas as pd \n",
    "import numpy as np\n",
    "import matplotlib.pyplot as plt\n",
    "import seaborn as sns\n",
    "import collections\n",
    "%matplotlib inline\n",
    "plt.style.use('ggplot')\n",
    "\n",
    "from IPython.display import set_matplotlib_formats\n",
    "set_matplotlib_formats('retina') "
   ]
  },
  {
   "cell_type": "code",
   "execution_count": 3,
   "metadata": {},
   "outputs": [],
   "source": [
    "import functions as F"
   ]
  },
  {
   "cell_type": "code",
   "execution_count": 4,
   "metadata": {},
   "outputs": [],
   "source": [
    "pd.set_option(\"display.max_colwidth\",999)\n",
    "pd.set_option(\"display.max_rows\",999)\n",
    "pd.set_option(\"display.max_columns\",999)"
   ]
  },
  {
   "cell_type": "markdown",
   "metadata": {},
   "source": [
    "Helper function ```col_name(name, df_description)```--> gives description of the column name defined in the table HomeCredit_columns_description.csv"
   ]
  },
  {
   "cell_type": "code",
   "execution_count": null,
   "metadata": {},
   "outputs": [],
   "source": [
    "F.col_name('MONTHS_BALANCE')"
   ]
  },
  {
   "cell_type": "markdown",
   "metadata": {},
   "source": [
    "#  Application Table - main table\n",
    "\n",
    "Static data for all applications. One row represents one loan in our data sample."
   ]
  },
  {
   "cell_type": "code",
   "execution_count": 5,
   "metadata": {},
   "outputs": [],
   "source": [
    "application_train = pd.read_csv('data/application_train.csv.zip') \n",
    "application_test = pd.read_csv('data/application_test.csv.zip') "
   ]
  },
  {
   "cell_type": "code",
   "execution_count": 6,
   "metadata": {},
   "outputs": [],
   "source": [
    "df_train = application_train.copy()\n",
    "df_test = application_test.copy()"
   ]
  },
  {
   "cell_type": "code",
   "execution_count": 7,
   "metadata": {},
   "outputs": [
    {
     "data": {
      "text/html": [
       "<div>\n",
       "<style scoped>\n",
       "    .dataframe tbody tr th:only-of-type {\n",
       "        vertical-align: middle;\n",
       "    }\n",
       "\n",
       "    .dataframe tbody tr th {\n",
       "        vertical-align: top;\n",
       "    }\n",
       "\n",
       "    .dataframe thead th {\n",
       "        text-align: right;\n",
       "    }\n",
       "</style>\n",
       "<table border=\"1\" class=\"dataframe\">\n",
       "  <thead>\n",
       "    <tr style=\"text-align: right;\">\n",
       "      <th></th>\n",
       "      <th>SK_ID_CURR</th>\n",
       "      <th>TARGET</th>\n",
       "      <th>NAME_CONTRACT_TYPE</th>\n",
       "      <th>CODE_GENDER</th>\n",
       "      <th>FLAG_OWN_CAR</th>\n",
       "      <th>FLAG_OWN_REALTY</th>\n",
       "      <th>CNT_CHILDREN</th>\n",
       "      <th>AMT_INCOME_TOTAL</th>\n",
       "      <th>AMT_CREDIT</th>\n",
       "      <th>AMT_ANNUITY</th>\n",
       "      <th>AMT_GOODS_PRICE</th>\n",
       "      <th>NAME_TYPE_SUITE</th>\n",
       "      <th>NAME_INCOME_TYPE</th>\n",
       "      <th>NAME_EDUCATION_TYPE</th>\n",
       "      <th>NAME_FAMILY_STATUS</th>\n",
       "      <th>NAME_HOUSING_TYPE</th>\n",
       "      <th>REGION_POPULATION_RELATIVE</th>\n",
       "      <th>DAYS_BIRTH</th>\n",
       "      <th>DAYS_EMPLOYED</th>\n",
       "      <th>DAYS_REGISTRATION</th>\n",
       "      <th>DAYS_ID_PUBLISH</th>\n",
       "      <th>OWN_CAR_AGE</th>\n",
       "      <th>FLAG_MOBIL</th>\n",
       "      <th>FLAG_EMP_PHONE</th>\n",
       "      <th>FLAG_WORK_PHONE</th>\n",
       "      <th>FLAG_CONT_MOBILE</th>\n",
       "      <th>FLAG_PHONE</th>\n",
       "      <th>FLAG_EMAIL</th>\n",
       "      <th>OCCUPATION_TYPE</th>\n",
       "      <th>CNT_FAM_MEMBERS</th>\n",
       "      <th>REGION_RATING_CLIENT</th>\n",
       "      <th>REGION_RATING_CLIENT_W_CITY</th>\n",
       "      <th>WEEKDAY_APPR_PROCESS_START</th>\n",
       "      <th>HOUR_APPR_PROCESS_START</th>\n",
       "      <th>REG_REGION_NOT_LIVE_REGION</th>\n",
       "      <th>REG_REGION_NOT_WORK_REGION</th>\n",
       "      <th>LIVE_REGION_NOT_WORK_REGION</th>\n",
       "      <th>REG_CITY_NOT_LIVE_CITY</th>\n",
       "      <th>REG_CITY_NOT_WORK_CITY</th>\n",
       "      <th>LIVE_CITY_NOT_WORK_CITY</th>\n",
       "      <th>ORGANIZATION_TYPE</th>\n",
       "      <th>EXT_SOURCE_1</th>\n",
       "      <th>EXT_SOURCE_2</th>\n",
       "      <th>EXT_SOURCE_3</th>\n",
       "      <th>APARTMENTS_AVG</th>\n",
       "      <th>BASEMENTAREA_AVG</th>\n",
       "      <th>YEARS_BEGINEXPLUATATION_AVG</th>\n",
       "      <th>YEARS_BUILD_AVG</th>\n",
       "      <th>COMMONAREA_AVG</th>\n",
       "      <th>ELEVATORS_AVG</th>\n",
       "      <th>ENTRANCES_AVG</th>\n",
       "      <th>FLOORSMAX_AVG</th>\n",
       "      <th>FLOORSMIN_AVG</th>\n",
       "      <th>LANDAREA_AVG</th>\n",
       "      <th>LIVINGAPARTMENTS_AVG</th>\n",
       "      <th>LIVINGAREA_AVG</th>\n",
       "      <th>NONLIVINGAPARTMENTS_AVG</th>\n",
       "      <th>NONLIVINGAREA_AVG</th>\n",
       "      <th>APARTMENTS_MODE</th>\n",
       "      <th>BASEMENTAREA_MODE</th>\n",
       "      <th>YEARS_BEGINEXPLUATATION_MODE</th>\n",
       "      <th>YEARS_BUILD_MODE</th>\n",
       "      <th>COMMONAREA_MODE</th>\n",
       "      <th>ELEVATORS_MODE</th>\n",
       "      <th>ENTRANCES_MODE</th>\n",
       "      <th>FLOORSMAX_MODE</th>\n",
       "      <th>FLOORSMIN_MODE</th>\n",
       "      <th>LANDAREA_MODE</th>\n",
       "      <th>LIVINGAPARTMENTS_MODE</th>\n",
       "      <th>LIVINGAREA_MODE</th>\n",
       "      <th>NONLIVINGAPARTMENTS_MODE</th>\n",
       "      <th>NONLIVINGAREA_MODE</th>\n",
       "      <th>APARTMENTS_MEDI</th>\n",
       "      <th>BASEMENTAREA_MEDI</th>\n",
       "      <th>YEARS_BEGINEXPLUATATION_MEDI</th>\n",
       "      <th>YEARS_BUILD_MEDI</th>\n",
       "      <th>COMMONAREA_MEDI</th>\n",
       "      <th>ELEVATORS_MEDI</th>\n",
       "      <th>ENTRANCES_MEDI</th>\n",
       "      <th>FLOORSMAX_MEDI</th>\n",
       "      <th>FLOORSMIN_MEDI</th>\n",
       "      <th>LANDAREA_MEDI</th>\n",
       "      <th>LIVINGAPARTMENTS_MEDI</th>\n",
       "      <th>LIVINGAREA_MEDI</th>\n",
       "      <th>NONLIVINGAPARTMENTS_MEDI</th>\n",
       "      <th>NONLIVINGAREA_MEDI</th>\n",
       "      <th>FONDKAPREMONT_MODE</th>\n",
       "      <th>HOUSETYPE_MODE</th>\n",
       "      <th>TOTALAREA_MODE</th>\n",
       "      <th>WALLSMATERIAL_MODE</th>\n",
       "      <th>EMERGENCYSTATE_MODE</th>\n",
       "      <th>OBS_30_CNT_SOCIAL_CIRCLE</th>\n",
       "      <th>DEF_30_CNT_SOCIAL_CIRCLE</th>\n",
       "      <th>OBS_60_CNT_SOCIAL_CIRCLE</th>\n",
       "      <th>DEF_60_CNT_SOCIAL_CIRCLE</th>\n",
       "      <th>DAYS_LAST_PHONE_CHANGE</th>\n",
       "      <th>FLAG_DOCUMENT_2</th>\n",
       "      <th>FLAG_DOCUMENT_3</th>\n",
       "      <th>FLAG_DOCUMENT_4</th>\n",
       "      <th>FLAG_DOCUMENT_5</th>\n",
       "      <th>FLAG_DOCUMENT_6</th>\n",
       "      <th>FLAG_DOCUMENT_7</th>\n",
       "      <th>FLAG_DOCUMENT_8</th>\n",
       "      <th>FLAG_DOCUMENT_9</th>\n",
       "      <th>FLAG_DOCUMENT_10</th>\n",
       "      <th>FLAG_DOCUMENT_11</th>\n",
       "      <th>FLAG_DOCUMENT_12</th>\n",
       "      <th>FLAG_DOCUMENT_13</th>\n",
       "      <th>FLAG_DOCUMENT_14</th>\n",
       "      <th>FLAG_DOCUMENT_15</th>\n",
       "      <th>FLAG_DOCUMENT_16</th>\n",
       "      <th>FLAG_DOCUMENT_17</th>\n",
       "      <th>FLAG_DOCUMENT_18</th>\n",
       "      <th>FLAG_DOCUMENT_19</th>\n",
       "      <th>FLAG_DOCUMENT_20</th>\n",
       "      <th>FLAG_DOCUMENT_21</th>\n",
       "      <th>AMT_REQ_CREDIT_BUREAU_HOUR</th>\n",
       "      <th>AMT_REQ_CREDIT_BUREAU_DAY</th>\n",
       "      <th>AMT_REQ_CREDIT_BUREAU_WEEK</th>\n",
       "      <th>AMT_REQ_CREDIT_BUREAU_MON</th>\n",
       "      <th>AMT_REQ_CREDIT_BUREAU_QRT</th>\n",
       "      <th>AMT_REQ_CREDIT_BUREAU_YEAR</th>\n",
       "    </tr>\n",
       "  </thead>\n",
       "  <tbody>\n",
       "    <tr>\n",
       "      <th>0</th>\n",
       "      <td>100002</td>\n",
       "      <td>1</td>\n",
       "      <td>Cash loans</td>\n",
       "      <td>M</td>\n",
       "      <td>N</td>\n",
       "      <td>Y</td>\n",
       "      <td>0</td>\n",
       "      <td>202500.0</td>\n",
       "      <td>406597.5</td>\n",
       "      <td>24700.5</td>\n",
       "      <td>351000.0</td>\n",
       "      <td>Unaccompanied</td>\n",
       "      <td>Working</td>\n",
       "      <td>Secondary / secondary special</td>\n",
       "      <td>Single / not married</td>\n",
       "      <td>House / apartment</td>\n",
       "      <td>0.018801</td>\n",
       "      <td>-9461</td>\n",
       "      <td>-637</td>\n",
       "      <td>-3648.0</td>\n",
       "      <td>-2120</td>\n",
       "      <td>NaN</td>\n",
       "      <td>1</td>\n",
       "      <td>1</td>\n",
       "      <td>0</td>\n",
       "      <td>1</td>\n",
       "      <td>1</td>\n",
       "      <td>0</td>\n",
       "      <td>Laborers</td>\n",
       "      <td>1.0</td>\n",
       "      <td>2</td>\n",
       "      <td>2</td>\n",
       "      <td>WEDNESDAY</td>\n",
       "      <td>10</td>\n",
       "      <td>0</td>\n",
       "      <td>0</td>\n",
       "      <td>0</td>\n",
       "      <td>0</td>\n",
       "      <td>0</td>\n",
       "      <td>0</td>\n",
       "      <td>Business Entity Type 3</td>\n",
       "      <td>0.083037</td>\n",
       "      <td>0.262949</td>\n",
       "      <td>0.139376</td>\n",
       "      <td>0.0247</td>\n",
       "      <td>0.0369</td>\n",
       "      <td>0.9722</td>\n",
       "      <td>0.6192</td>\n",
       "      <td>0.0143</td>\n",
       "      <td>0.00</td>\n",
       "      <td>0.0690</td>\n",
       "      <td>0.0833</td>\n",
       "      <td>0.1250</td>\n",
       "      <td>0.0369</td>\n",
       "      <td>0.0202</td>\n",
       "      <td>0.0190</td>\n",
       "      <td>0.0000</td>\n",
       "      <td>0.0000</td>\n",
       "      <td>0.0252</td>\n",
       "      <td>0.0383</td>\n",
       "      <td>0.9722</td>\n",
       "      <td>0.6341</td>\n",
       "      <td>0.0144</td>\n",
       "      <td>0.0000</td>\n",
       "      <td>0.0690</td>\n",
       "      <td>0.0833</td>\n",
       "      <td>0.1250</td>\n",
       "      <td>0.0377</td>\n",
       "      <td>0.022</td>\n",
       "      <td>0.0198</td>\n",
       "      <td>0.0</td>\n",
       "      <td>0.0</td>\n",
       "      <td>0.0250</td>\n",
       "      <td>0.0369</td>\n",
       "      <td>0.9722</td>\n",
       "      <td>0.6243</td>\n",
       "      <td>0.0144</td>\n",
       "      <td>0.00</td>\n",
       "      <td>0.0690</td>\n",
       "      <td>0.0833</td>\n",
       "      <td>0.1250</td>\n",
       "      <td>0.0375</td>\n",
       "      <td>0.0205</td>\n",
       "      <td>0.0193</td>\n",
       "      <td>0.0000</td>\n",
       "      <td>0.00</td>\n",
       "      <td>reg oper account</td>\n",
       "      <td>block of flats</td>\n",
       "      <td>0.0149</td>\n",
       "      <td>Stone, brick</td>\n",
       "      <td>No</td>\n",
       "      <td>2.0</td>\n",
       "      <td>2.0</td>\n",
       "      <td>2.0</td>\n",
       "      <td>2.0</td>\n",
       "      <td>-1134.0</td>\n",
       "      <td>0</td>\n",
       "      <td>1</td>\n",
       "      <td>0</td>\n",
       "      <td>0</td>\n",
       "      <td>0</td>\n",
       "      <td>0</td>\n",
       "      <td>0</td>\n",
       "      <td>0</td>\n",
       "      <td>0</td>\n",
       "      <td>0</td>\n",
       "      <td>0</td>\n",
       "      <td>0</td>\n",
       "      <td>0</td>\n",
       "      <td>0</td>\n",
       "      <td>0</td>\n",
       "      <td>0</td>\n",
       "      <td>0</td>\n",
       "      <td>0</td>\n",
       "      <td>0</td>\n",
       "      <td>0</td>\n",
       "      <td>0.0</td>\n",
       "      <td>0.0</td>\n",
       "      <td>0.0</td>\n",
       "      <td>0.0</td>\n",
       "      <td>0.0</td>\n",
       "      <td>1.0</td>\n",
       "    </tr>\n",
       "    <tr>\n",
       "      <th>1</th>\n",
       "      <td>100003</td>\n",
       "      <td>0</td>\n",
       "      <td>Cash loans</td>\n",
       "      <td>F</td>\n",
       "      <td>N</td>\n",
       "      <td>N</td>\n",
       "      <td>0</td>\n",
       "      <td>270000.0</td>\n",
       "      <td>1293502.5</td>\n",
       "      <td>35698.5</td>\n",
       "      <td>1129500.0</td>\n",
       "      <td>Family</td>\n",
       "      <td>State servant</td>\n",
       "      <td>Higher education</td>\n",
       "      <td>Married</td>\n",
       "      <td>House / apartment</td>\n",
       "      <td>0.003541</td>\n",
       "      <td>-16765</td>\n",
       "      <td>-1188</td>\n",
       "      <td>-1186.0</td>\n",
       "      <td>-291</td>\n",
       "      <td>NaN</td>\n",
       "      <td>1</td>\n",
       "      <td>1</td>\n",
       "      <td>0</td>\n",
       "      <td>1</td>\n",
       "      <td>1</td>\n",
       "      <td>0</td>\n",
       "      <td>Core staff</td>\n",
       "      <td>2.0</td>\n",
       "      <td>1</td>\n",
       "      <td>1</td>\n",
       "      <td>MONDAY</td>\n",
       "      <td>11</td>\n",
       "      <td>0</td>\n",
       "      <td>0</td>\n",
       "      <td>0</td>\n",
       "      <td>0</td>\n",
       "      <td>0</td>\n",
       "      <td>0</td>\n",
       "      <td>School</td>\n",
       "      <td>0.311267</td>\n",
       "      <td>0.622246</td>\n",
       "      <td>NaN</td>\n",
       "      <td>0.0959</td>\n",
       "      <td>0.0529</td>\n",
       "      <td>0.9851</td>\n",
       "      <td>0.7960</td>\n",
       "      <td>0.0605</td>\n",
       "      <td>0.08</td>\n",
       "      <td>0.0345</td>\n",
       "      <td>0.2917</td>\n",
       "      <td>0.3333</td>\n",
       "      <td>0.0130</td>\n",
       "      <td>0.0773</td>\n",
       "      <td>0.0549</td>\n",
       "      <td>0.0039</td>\n",
       "      <td>0.0098</td>\n",
       "      <td>0.0924</td>\n",
       "      <td>0.0538</td>\n",
       "      <td>0.9851</td>\n",
       "      <td>0.8040</td>\n",
       "      <td>0.0497</td>\n",
       "      <td>0.0806</td>\n",
       "      <td>0.0345</td>\n",
       "      <td>0.2917</td>\n",
       "      <td>0.3333</td>\n",
       "      <td>0.0128</td>\n",
       "      <td>0.079</td>\n",
       "      <td>0.0554</td>\n",
       "      <td>0.0</td>\n",
       "      <td>0.0</td>\n",
       "      <td>0.0968</td>\n",
       "      <td>0.0529</td>\n",
       "      <td>0.9851</td>\n",
       "      <td>0.7987</td>\n",
       "      <td>0.0608</td>\n",
       "      <td>0.08</td>\n",
       "      <td>0.0345</td>\n",
       "      <td>0.2917</td>\n",
       "      <td>0.3333</td>\n",
       "      <td>0.0132</td>\n",
       "      <td>0.0787</td>\n",
       "      <td>0.0558</td>\n",
       "      <td>0.0039</td>\n",
       "      <td>0.01</td>\n",
       "      <td>reg oper account</td>\n",
       "      <td>block of flats</td>\n",
       "      <td>0.0714</td>\n",
       "      <td>Block</td>\n",
       "      <td>No</td>\n",
       "      <td>1.0</td>\n",
       "      <td>0.0</td>\n",
       "      <td>1.0</td>\n",
       "      <td>0.0</td>\n",
       "      <td>-828.0</td>\n",
       "      <td>0</td>\n",
       "      <td>1</td>\n",
       "      <td>0</td>\n",
       "      <td>0</td>\n",
       "      <td>0</td>\n",
       "      <td>0</td>\n",
       "      <td>0</td>\n",
       "      <td>0</td>\n",
       "      <td>0</td>\n",
       "      <td>0</td>\n",
       "      <td>0</td>\n",
       "      <td>0</td>\n",
       "      <td>0</td>\n",
       "      <td>0</td>\n",
       "      <td>0</td>\n",
       "      <td>0</td>\n",
       "      <td>0</td>\n",
       "      <td>0</td>\n",
       "      <td>0</td>\n",
       "      <td>0</td>\n",
       "      <td>0.0</td>\n",
       "      <td>0.0</td>\n",
       "      <td>0.0</td>\n",
       "      <td>0.0</td>\n",
       "      <td>0.0</td>\n",
       "      <td>0.0</td>\n",
       "    </tr>\n",
       "  </tbody>\n",
       "</table>\n",
       "</div>"
      ],
      "text/plain": [
       "   SK_ID_CURR  TARGET NAME_CONTRACT_TYPE CODE_GENDER FLAG_OWN_CAR  \\\n",
       "0      100002       1         Cash loans           M            N   \n",
       "1      100003       0         Cash loans           F            N   \n",
       "\n",
       "  FLAG_OWN_REALTY  CNT_CHILDREN  AMT_INCOME_TOTAL  AMT_CREDIT  AMT_ANNUITY  \\\n",
       "0               Y             0          202500.0    406597.5      24700.5   \n",
       "1               N             0          270000.0   1293502.5      35698.5   \n",
       "\n",
       "   AMT_GOODS_PRICE NAME_TYPE_SUITE NAME_INCOME_TYPE  \\\n",
       "0         351000.0   Unaccompanied          Working   \n",
       "1        1129500.0          Family    State servant   \n",
       "\n",
       "             NAME_EDUCATION_TYPE    NAME_FAMILY_STATUS  NAME_HOUSING_TYPE  \\\n",
       "0  Secondary / secondary special  Single / not married  House / apartment   \n",
       "1               Higher education               Married  House / apartment   \n",
       "\n",
       "   REGION_POPULATION_RELATIVE  DAYS_BIRTH  DAYS_EMPLOYED  DAYS_REGISTRATION  \\\n",
       "0                    0.018801       -9461           -637            -3648.0   \n",
       "1                    0.003541      -16765          -1188            -1186.0   \n",
       "\n",
       "   DAYS_ID_PUBLISH  OWN_CAR_AGE  FLAG_MOBIL  FLAG_EMP_PHONE  FLAG_WORK_PHONE  \\\n",
       "0            -2120          NaN           1               1                0   \n",
       "1             -291          NaN           1               1                0   \n",
       "\n",
       "   FLAG_CONT_MOBILE  FLAG_PHONE  FLAG_EMAIL OCCUPATION_TYPE  CNT_FAM_MEMBERS  \\\n",
       "0                 1           1           0        Laborers              1.0   \n",
       "1                 1           1           0      Core staff              2.0   \n",
       "\n",
       "   REGION_RATING_CLIENT  REGION_RATING_CLIENT_W_CITY  \\\n",
       "0                     2                            2   \n",
       "1                     1                            1   \n",
       "\n",
       "  WEEKDAY_APPR_PROCESS_START  HOUR_APPR_PROCESS_START  \\\n",
       "0                  WEDNESDAY                       10   \n",
       "1                     MONDAY                       11   \n",
       "\n",
       "   REG_REGION_NOT_LIVE_REGION  REG_REGION_NOT_WORK_REGION  \\\n",
       "0                           0                           0   \n",
       "1                           0                           0   \n",
       "\n",
       "   LIVE_REGION_NOT_WORK_REGION  REG_CITY_NOT_LIVE_CITY  \\\n",
       "0                            0                       0   \n",
       "1                            0                       0   \n",
       "\n",
       "   REG_CITY_NOT_WORK_CITY  LIVE_CITY_NOT_WORK_CITY       ORGANIZATION_TYPE  \\\n",
       "0                       0                        0  Business Entity Type 3   \n",
       "1                       0                        0                  School   \n",
       "\n",
       "   EXT_SOURCE_1  EXT_SOURCE_2  EXT_SOURCE_3  APARTMENTS_AVG  BASEMENTAREA_AVG  \\\n",
       "0      0.083037      0.262949      0.139376          0.0247            0.0369   \n",
       "1      0.311267      0.622246           NaN          0.0959            0.0529   \n",
       "\n",
       "   YEARS_BEGINEXPLUATATION_AVG  YEARS_BUILD_AVG  COMMONAREA_AVG  \\\n",
       "0                       0.9722           0.6192          0.0143   \n",
       "1                       0.9851           0.7960          0.0605   \n",
       "\n",
       "   ELEVATORS_AVG  ENTRANCES_AVG  FLOORSMAX_AVG  FLOORSMIN_AVG  LANDAREA_AVG  \\\n",
       "0           0.00         0.0690         0.0833         0.1250        0.0369   \n",
       "1           0.08         0.0345         0.2917         0.3333        0.0130   \n",
       "\n",
       "   LIVINGAPARTMENTS_AVG  LIVINGAREA_AVG  NONLIVINGAPARTMENTS_AVG  \\\n",
       "0                0.0202          0.0190                   0.0000   \n",
       "1                0.0773          0.0549                   0.0039   \n",
       "\n",
       "   NONLIVINGAREA_AVG  APARTMENTS_MODE  BASEMENTAREA_MODE  \\\n",
       "0             0.0000           0.0252             0.0383   \n",
       "1             0.0098           0.0924             0.0538   \n",
       "\n",
       "   YEARS_BEGINEXPLUATATION_MODE  YEARS_BUILD_MODE  COMMONAREA_MODE  \\\n",
       "0                        0.9722            0.6341           0.0144   \n",
       "1                        0.9851            0.8040           0.0497   \n",
       "\n",
       "   ELEVATORS_MODE  ENTRANCES_MODE  FLOORSMAX_MODE  FLOORSMIN_MODE  \\\n",
       "0          0.0000          0.0690          0.0833          0.1250   \n",
       "1          0.0806          0.0345          0.2917          0.3333   \n",
       "\n",
       "   LANDAREA_MODE  LIVINGAPARTMENTS_MODE  LIVINGAREA_MODE  \\\n",
       "0         0.0377                  0.022           0.0198   \n",
       "1         0.0128                  0.079           0.0554   \n",
       "\n",
       "   NONLIVINGAPARTMENTS_MODE  NONLIVINGAREA_MODE  APARTMENTS_MEDI  \\\n",
       "0                       0.0                 0.0           0.0250   \n",
       "1                       0.0                 0.0           0.0968   \n",
       "\n",
       "   BASEMENTAREA_MEDI  YEARS_BEGINEXPLUATATION_MEDI  YEARS_BUILD_MEDI  \\\n",
       "0             0.0369                        0.9722            0.6243   \n",
       "1             0.0529                        0.9851            0.7987   \n",
       "\n",
       "   COMMONAREA_MEDI  ELEVATORS_MEDI  ENTRANCES_MEDI  FLOORSMAX_MEDI  \\\n",
       "0           0.0144            0.00          0.0690          0.0833   \n",
       "1           0.0608            0.08          0.0345          0.2917   \n",
       "\n",
       "   FLOORSMIN_MEDI  LANDAREA_MEDI  LIVINGAPARTMENTS_MEDI  LIVINGAREA_MEDI  \\\n",
       "0          0.1250         0.0375                 0.0205           0.0193   \n",
       "1          0.3333         0.0132                 0.0787           0.0558   \n",
       "\n",
       "   NONLIVINGAPARTMENTS_MEDI  NONLIVINGAREA_MEDI FONDKAPREMONT_MODE  \\\n",
       "0                    0.0000                0.00   reg oper account   \n",
       "1                    0.0039                0.01   reg oper account   \n",
       "\n",
       "   HOUSETYPE_MODE  TOTALAREA_MODE WALLSMATERIAL_MODE EMERGENCYSTATE_MODE  \\\n",
       "0  block of flats          0.0149       Stone, brick                  No   \n",
       "1  block of flats          0.0714              Block                  No   \n",
       "\n",
       "   OBS_30_CNT_SOCIAL_CIRCLE  DEF_30_CNT_SOCIAL_CIRCLE  \\\n",
       "0                       2.0                       2.0   \n",
       "1                       1.0                       0.0   \n",
       "\n",
       "   OBS_60_CNT_SOCIAL_CIRCLE  DEF_60_CNT_SOCIAL_CIRCLE  DAYS_LAST_PHONE_CHANGE  \\\n",
       "0                       2.0                       2.0                 -1134.0   \n",
       "1                       1.0                       0.0                  -828.0   \n",
       "\n",
       "   FLAG_DOCUMENT_2  FLAG_DOCUMENT_3  FLAG_DOCUMENT_4  FLAG_DOCUMENT_5  \\\n",
       "0                0                1                0                0   \n",
       "1                0                1                0                0   \n",
       "\n",
       "   FLAG_DOCUMENT_6  FLAG_DOCUMENT_7  FLAG_DOCUMENT_8  FLAG_DOCUMENT_9  \\\n",
       "0                0                0                0                0   \n",
       "1                0                0                0                0   \n",
       "\n",
       "   FLAG_DOCUMENT_10  FLAG_DOCUMENT_11  FLAG_DOCUMENT_12  FLAG_DOCUMENT_13  \\\n",
       "0                 0                 0                 0                 0   \n",
       "1                 0                 0                 0                 0   \n",
       "\n",
       "   FLAG_DOCUMENT_14  FLAG_DOCUMENT_15  FLAG_DOCUMENT_16  FLAG_DOCUMENT_17  \\\n",
       "0                 0                 0                 0                 0   \n",
       "1                 0                 0                 0                 0   \n",
       "\n",
       "   FLAG_DOCUMENT_18  FLAG_DOCUMENT_19  FLAG_DOCUMENT_20  FLAG_DOCUMENT_21  \\\n",
       "0                 0                 0                 0                 0   \n",
       "1                 0                 0                 0                 0   \n",
       "\n",
       "   AMT_REQ_CREDIT_BUREAU_HOUR  AMT_REQ_CREDIT_BUREAU_DAY  \\\n",
       "0                         0.0                        0.0   \n",
       "1                         0.0                        0.0   \n",
       "\n",
       "   AMT_REQ_CREDIT_BUREAU_WEEK  AMT_REQ_CREDIT_BUREAU_MON  \\\n",
       "0                         0.0                        0.0   \n",
       "1                         0.0                        0.0   \n",
       "\n",
       "   AMT_REQ_CREDIT_BUREAU_QRT  AMT_REQ_CREDIT_BUREAU_YEAR  \n",
       "0                        0.0                         1.0  \n",
       "1                        0.0                         0.0  "
      ]
     },
     "execution_count": 7,
     "metadata": {},
     "output_type": "execute_result"
    }
   ],
   "source": [
    "df_train.head(2)"
   ]
  },
  {
   "cell_type": "code",
   "execution_count": 8,
   "metadata": {},
   "outputs": [
    {
     "data": {
      "text/plain": [
       "NAME_CONTRACT_TYPE             2\n",
       "CODE_GENDER                    3\n",
       "FLAG_OWN_CAR                   2\n",
       "FLAG_OWN_REALTY                2\n",
       "NAME_TYPE_SUITE                7\n",
       "NAME_INCOME_TYPE               8\n",
       "NAME_EDUCATION_TYPE            5\n",
       "NAME_FAMILY_STATUS             6\n",
       "NAME_HOUSING_TYPE              6\n",
       "OCCUPATION_TYPE               18\n",
       "WEEKDAY_APPR_PROCESS_START     7\n",
       "ORGANIZATION_TYPE             58\n",
       "FONDKAPREMONT_MODE             4\n",
       "HOUSETYPE_MODE                 3\n",
       "WALLSMATERIAL_MODE             7\n",
       "EMERGENCYSTATE_MODE            2\n",
       "dtype: int64"
      ]
     },
     "execution_count": 8,
     "metadata": {},
     "output_type": "execute_result"
    }
   ],
   "source": [
    "df_train.select_dtypes('object').apply(pd.Series.nunique)"
   ]
  },
  {
   "cell_type": "code",
   "execution_count": 9,
   "metadata": {},
   "outputs": [],
   "source": [
    "# basic feature engineering\n",
    "df_train = F.application(df_train)\n",
    "df_test = F.application(df_test)\n",
    "df_train.to_csv('predictions/main_df_train.csv')\n",
    "df_test.to_csv('predictions/main_df_test.csv')"
   ]
  },
  {
   "cell_type": "code",
   "execution_count": 11,
   "metadata": {},
   "outputs": [
    {
     "name": "stdout",
     "output_type": "stream",
     "text": [
      "Training Data Shape:  (307511, 242)\n",
      "Testing Data Shape:  (48744, 242)\n",
      "Training until validation scores don't improve for 100 rounds.\n",
      "[200]\tvalid's auc: 0.762624\ttrain's auc: 0.804165\n",
      "Early stopping, best iteration is:\n",
      "[245]\tvalid's auc: 0.763046\ttrain's auc: 0.81149\n",
      "Training until validation scores don't improve for 100 rounds.\n",
      "[200]\tvalid's auc: 0.766142\ttrain's auc: 0.804168\n",
      "[400]\tvalid's auc: 0.766395\ttrain's auc: 0.83384\n",
      "Early stopping, best iteration is:\n",
      "[303]\tvalid's auc: 0.766539\ttrain's auc: 0.820689\n",
      "Training until validation scores don't improve for 100 rounds.\n",
      "[200]\tvalid's auc: 0.770614\ttrain's auc: 0.803899\n",
      "Early stopping, best iteration is:\n",
      "[291]\tvalid's auc: 0.771103\ttrain's auc: 0.818977\n",
      "Training until validation scores don't improve for 100 rounds.\n",
      "[200]\tvalid's auc: 0.76594\ttrain's auc: 0.804703\n",
      "Early stopping, best iteration is:\n",
      "[222]\tvalid's auc: 0.766107\ttrain's auc: 0.808406\n",
      "Training until validation scores don't improve for 100 rounds.\n",
      "[200]\tvalid's auc: 0.764763\ttrain's auc: 0.804584\n",
      "Early stopping, best iteration is:\n",
      "[190]\tvalid's auc: 0.764843\ttrain's auc: 0.802821\n",
      "Baseline metrics\n",
      "      fold     train     valid\n",
      "0        0  0.811490  0.763046\n",
      "1        1  0.820689  0.766539\n",
      "2        2  0.818977  0.771103\n",
      "3        3  0.808406  0.766107\n",
      "4        4  0.802821  0.764843\n",
      "5  overall  0.812477  0.766344\n"
     ]
    }
   ],
   "source": [
    "# lgbm boosting classifier modeling only with main table and basic feature engineering\n",
    "submission, fi, metrics = F.model(df_train, df_test)\n",
    "print('Baseline metrics')\n",
    "print(metrics)"
   ]
  },
  {
   "cell_type": "code",
   "execution_count": 12,
   "metadata": {},
   "outputs": [],
   "source": [
    "submission.to_csv('submissions/my_lgbm_app.csv', index=False)"
   ]
  },
  {
   "cell_type": "markdown",
   "metadata": {},
   "source": [
    "Kaggle score:\n",
    "`0.76216\n",
    "`"
   ]
  },
  {
   "cell_type": "code",
   "execution_count": 13,
   "metadata": {
    "scrolled": false
   },
   "outputs": [
    {
     "data": {
      "image/png": "[encoded data removed]",
      "text/plain": [
       "<matplotlib.figure.Figure at 0x10da34a20>"
      ]
     },
     "metadata": {
      "image/png": {
       "height": 607,
       "width": 796
      }
     },
     "output_type": "display_data"
    }
   ],
   "source": [
    "feat_import_series = F.plot_feature_importances(fi,n_show=25)"
   ]
  },
  {
   "cell_type": "markdown",
   "metadata": {},
   "source": [
    "Our hand made feature credit term come surprisingly to the 1st place!"
   ]
  },
  {
   "cell_type": "markdown",
   "metadata": {},
   "source": [
    "# Current Application - Bureau (level 1)\n",
    "**bureau.csv:** All client's previous credits provided by other financial institutions that were reported to Credit Bureau (for clients who have a loan in our sample). For every loan in our sample, there are as many rows as number of credits the client had in Credit Bureau before the application date.\n",
    "\n",
    "Parent: application | Child: bureau \n",
    "\n",
    "relationship: 1 to many (level1)"
   ]
  },
  {
   "cell_type": "code",
   "execution_count": 14,
   "metadata": {},
   "outputs": [
    {
     "data": {
      "text/html": [
       "<div>\n",
       "<style scoped>\n",
       "    .dataframe tbody tr th:only-of-type {\n",
       "        vertical-align: middle;\n",
       "    }\n",
       "\n",
       "    .dataframe tbody tr th {\n",
       "        vertical-align: top;\n",
       "    }\n",
       "\n",
       "    .dataframe thead th {\n",
       "        text-align: right;\n",
       "    }\n",
       "</style>\n",
       "<table border=\"1\" class=\"dataframe\">\n",
       "  <thead>\n",
       "    <tr style=\"text-align: right;\">\n",
       "      <th></th>\n",
       "      <th>SK_ID_CURR</th>\n",
       "      <th>SK_ID_BUREAU</th>\n",
       "      <th>CREDIT_ACTIVE</th>\n",
       "      <th>CREDIT_CURRENCY</th>\n",
       "      <th>DAYS_CREDIT</th>\n",
       "      <th>CREDIT_DAY_OVERDUE</th>\n",
       "      <th>DAYS_CREDIT_ENDDATE</th>\n",
       "      <th>DAYS_ENDDATE_FACT</th>\n",
       "      <th>AMT_CREDIT_MAX_OVERDUE</th>\n",
       "      <th>CNT_CREDIT_PROLONG</th>\n",
       "      <th>AMT_CREDIT_SUM</th>\n",
       "      <th>AMT_CREDIT_SUM_DEBT</th>\n",
       "      <th>AMT_CREDIT_SUM_LIMIT</th>\n",
       "      <th>AMT_CREDIT_SUM_OVERDUE</th>\n",
       "      <th>CREDIT_TYPE</th>\n",
       "      <th>DAYS_CREDIT_UPDATE</th>\n",
       "      <th>AMT_ANNUITY</th>\n",
       "    </tr>\n",
       "  </thead>\n",
       "  <tbody>\n",
       "    <tr>\n",
       "      <th>0</th>\n",
       "      <td>215354</td>\n",
       "      <td>5714462</td>\n",
       "      <td>Closed</td>\n",
       "      <td>currency 1</td>\n",
       "      <td>-497</td>\n",
       "      <td>0</td>\n",
       "      <td>-153.0</td>\n",
       "      <td>-153.0</td>\n",
       "      <td>NaN</td>\n",
       "      <td>0</td>\n",
       "      <td>91323.0</td>\n",
       "      <td>0.0</td>\n",
       "      <td>NaN</td>\n",
       "      <td>0.0</td>\n",
       "      <td>Consumer credit</td>\n",
       "      <td>-131</td>\n",
       "      <td>NaN</td>\n",
       "    </tr>\n",
       "    <tr>\n",
       "      <th>1</th>\n",
       "      <td>215354</td>\n",
       "      <td>5714463</td>\n",
       "      <td>Active</td>\n",
       "      <td>currency 1</td>\n",
       "      <td>-208</td>\n",
       "      <td>0</td>\n",
       "      <td>1075.0</td>\n",
       "      <td>NaN</td>\n",
       "      <td>NaN</td>\n",
       "      <td>0</td>\n",
       "      <td>225000.0</td>\n",
       "      <td>171342.0</td>\n",
       "      <td>NaN</td>\n",
       "      <td>0.0</td>\n",
       "      <td>Credit card</td>\n",
       "      <td>-20</td>\n",
       "      <td>NaN</td>\n",
       "    </tr>\n",
       "    <tr>\n",
       "      <th>2</th>\n",
       "      <td>215354</td>\n",
       "      <td>5714464</td>\n",
       "      <td>Active</td>\n",
       "      <td>currency 1</td>\n",
       "      <td>-203</td>\n",
       "      <td>0</td>\n",
       "      <td>528.0</td>\n",
       "      <td>NaN</td>\n",
       "      <td>NaN</td>\n",
       "      <td>0</td>\n",
       "      <td>464323.5</td>\n",
       "      <td>NaN</td>\n",
       "      <td>NaN</td>\n",
       "      <td>0.0</td>\n",
       "      <td>Consumer credit</td>\n",
       "      <td>-16</td>\n",
       "      <td>NaN</td>\n",
       "    </tr>\n",
       "    <tr>\n",
       "      <th>3</th>\n",
       "      <td>215354</td>\n",
       "      <td>5714465</td>\n",
       "      <td>Active</td>\n",
       "      <td>currency 1</td>\n",
       "      <td>-203</td>\n",
       "      <td>0</td>\n",
       "      <td>NaN</td>\n",
       "      <td>NaN</td>\n",
       "      <td>NaN</td>\n",
       "      <td>0</td>\n",
       "      <td>90000.0</td>\n",
       "      <td>NaN</td>\n",
       "      <td>NaN</td>\n",
       "      <td>0.0</td>\n",
       "      <td>Credit card</td>\n",
       "      <td>-16</td>\n",
       "      <td>NaN</td>\n",
       "    </tr>\n",
       "    <tr>\n",
       "      <th>4</th>\n",
       "      <td>215354</td>\n",
       "      <td>5714466</td>\n",
       "      <td>Active</td>\n",
       "      <td>currency 1</td>\n",
       "      <td>-629</td>\n",
       "      <td>0</td>\n",
       "      <td>1197.0</td>\n",
       "      <td>NaN</td>\n",
       "      <td>77674.5</td>\n",
       "      <td>0</td>\n",
       "      <td>2700000.0</td>\n",
       "      <td>NaN</td>\n",
       "      <td>NaN</td>\n",
       "      <td>0.0</td>\n",
       "      <td>Consumer credit</td>\n",
       "      <td>-21</td>\n",
       "      <td>NaN</td>\n",
       "    </tr>\n",
       "  </tbody>\n",
       "</table>\n",
       "</div>"
      ],
      "text/plain": [
       "   SK_ID_CURR  SK_ID_BUREAU CREDIT_ACTIVE CREDIT_CURRENCY  DAYS_CREDIT  \\\n",
       "0      215354       5714462        Closed      currency 1         -497   \n",
       "1      215354       5714463        Active      currency 1         -208   \n",
       "2      215354       5714464        Active      currency 1         -203   \n",
       "3      215354       5714465        Active      currency 1         -203   \n",
       "4      215354       5714466        Active      currency 1         -629   \n",
       "\n",
       "   CREDIT_DAY_OVERDUE  DAYS_CREDIT_ENDDATE  DAYS_ENDDATE_FACT  \\\n",
       "0                   0               -153.0             -153.0   \n",
       "1                   0               1075.0                NaN   \n",
       "2                   0                528.0                NaN   \n",
       "3                   0                  NaN                NaN   \n",
       "4                   0               1197.0                NaN   \n",
       "\n",
       "   AMT_CREDIT_MAX_OVERDUE  CNT_CREDIT_PROLONG  AMT_CREDIT_SUM  \\\n",
       "0                     NaN                   0         91323.0   \n",
       "1                     NaN                   0        225000.0   \n",
       "2                     NaN                   0        464323.5   \n",
       "3                     NaN                   0         90000.0   \n",
       "4                 77674.5                   0       2700000.0   \n",
       "\n",
       "   AMT_CREDIT_SUM_DEBT  AMT_CREDIT_SUM_LIMIT  AMT_CREDIT_SUM_OVERDUE  \\\n",
       "0                  0.0                   NaN                     0.0   \n",
       "1             171342.0                   NaN                     0.0   \n",
       "2                  NaN                   NaN                     0.0   \n",
       "3                  NaN                   NaN                     0.0   \n",
       "4                  NaN                   NaN                     0.0   \n",
       "\n",
       "       CREDIT_TYPE  DAYS_CREDIT_UPDATE  AMT_ANNUITY  \n",
       "0  Consumer credit                -131          NaN  \n",
       "1      Credit card                 -20          NaN  \n",
       "2  Consumer credit                 -16          NaN  \n",
       "3      Credit card                 -16          NaN  \n",
       "4  Consumer credit                 -21          NaN  "
      ]
     },
     "execution_count": 14,
     "metadata": {},
     "output_type": "execute_result"
    }
   ],
   "source": [
    "bureau = pd.read_csv('data/bureau.csv.zip')\n",
    "bureau.head()"
   ]
  },
  {
   "cell_type": "code",
   "execution_count": 15,
   "metadata": {},
   "outputs": [
    {
     "data": {
      "text/plain": [
       "CREDIT_ACTIVE       4\n",
       "CREDIT_CURRENCY     4\n",
       "CREDIT_TYPE        15\n",
       "dtype: int64"
      ]
     },
     "execution_count": 15,
     "metadata": {},
     "output_type": "execute_result"
    }
   ],
   "source": [
    "bureau.select_dtypes('object').apply(pd.Series.nunique)"
   ]
  },
  {
   "cell_type": "code",
   "execution_count": 17,
   "metadata": {},
   "outputs": [
    {
     "name": "stderr",
     "output_type": "stream",
     "text": [
      "/Users/Alex/Documents/10_galvanize/galvanize/defaultrisk/functions.py:322: SettingWithCopyWarning: \n",
      "A value is trying to be set on a copy of a slice from a DataFrame.\n",
      "Try using .loc[row_indexer,col_indexer] = value instead\n",
      "\n",
      "See the caveats in the documentation: http://pandas.pydata.org/pandas-docs/stable/indexing.html#indexing-view-versus-copy\n",
      "  numeric_df[group_var] = group_ids\n"
     ]
    },
    {
     "data": {
      "text/html": [
       "<div>\n",
       "<style scoped>\n",
       "    .dataframe tbody tr th:only-of-type {\n",
       "        vertical-align: middle;\n",
       "    }\n",
       "\n",
       "    .dataframe tbody tr th {\n",
       "        vertical-align: top;\n",
       "    }\n",
       "\n",
       "    .dataframe thead th {\n",
       "        text-align: right;\n",
       "    }\n",
       "</style>\n",
       "<table border=\"1\" class=\"dataframe\">\n",
       "  <thead>\n",
       "    <tr style=\"text-align: right;\">\n",
       "      <th></th>\n",
       "      <th>bureau_DAYS_CREDIT_sum</th>\n",
       "      <th>bureau_DAYS_ENDDATE_FACT_sum</th>\n",
       "      <th>bureau_DAYS_CREDIT_min</th>\n",
       "      <th>bureau_DAYS_CREDIT_ENDDATE_min</th>\n",
       "      <th>bureau_DAYS_ENDDATE_FACT_min</th>\n",
       "      <th>bureau_DAYS_ENDDATE_FACT_mean</th>\n",
       "      <th>bureau_DAYS_CREDIT_mean</th>\n",
       "      <th>bureau_DAYS_CREDIT_UPDATE_sum</th>\n",
       "      <th>bureau_DAYS_ENDDATE_FACT_max</th>\n",
       "      <th>bureau_DAYS_CREDIT_UPDATE_min</th>\n",
       "      <th>bureau_DAYS_CREDIT_UPDATE_mean</th>\n",
       "      <th>bureau_DAYS_CREDIT_max</th>\n",
       "      <th>bureau_DAYS_CREDIT_UPDATE_max</th>\n",
       "      <th>bureau_CNT_CREDIT_PROLONG_min</th>\n",
       "      <th>bureau_CREDIT_DAY_OVERDUE_min</th>\n",
       "      <th>bureau_AMT_CREDIT_SUM_OVERDUE_min</th>\n",
       "      <th>bureau_CREDIT_DAY_OVERDUE_mean</th>\n",
       "      <th>bureau_CREDIT_DAY_OVERDUE_max</th>\n",
       "      <th>bureau_CREDIT_DAY_OVERDUE_sum</th>\n",
       "      <th>bureau_AMT_CREDIT_SUM_OVERDUE_mean</th>\n",
       "      <th>bureau_AMT_CREDIT_SUM_OVERDUE_max</th>\n",
       "      <th>bureau_AMT_CREDIT_SUM_OVERDUE_sum</th>\n",
       "      <th>bureau_CNT_CREDIT_PROLONG_mean</th>\n",
       "      <th>bureau_CNT_CREDIT_PROLONG_max</th>\n",
       "      <th>bureau_CNT_CREDIT_PROLONG_sum</th>\n",
       "      <th>bureau_AMT_CREDIT_SUM_DEBT_min</th>\n",
       "      <th>bureau_AMT_CREDIT_SUM_LIMIT_min</th>\n",
       "      <th>bureau_AMT_ANNUITY_min</th>\n",
       "      <th>bureau_AMT_CREDIT_MAX_OVERDUE_count</th>\n",
       "      <th>bureau_AMT_CREDIT_SUM_LIMIT_mean</th>\n",
       "      <th>bureau_AMT_CREDIT_MAX_OVERDUE_sum</th>\n",
       "      <th>bureau_AMT_CREDIT_SUM_LIMIT_sum</th>\n",
       "      <th>bureau_AMT_CREDIT_SUM_LIMIT_max</th>\n",
       "      <th>bureau_DAYS_ENDDATE_FACT_count</th>\n",
       "      <th>bureau_AMT_CREDIT_SUM_LIMIT_count</th>\n",
       "      <th>bureau_AMT_CREDIT_SUM_DEBT_count</th>\n",
       "      <th>bureau_DAYS_CREDIT_ENDDATE_count</th>\n",
       "      <th>bureau_AMT_ANNUITY_count</th>\n",
       "      <th>bureau_AMT_CREDIT_SUM_count</th>\n",
       "      <th>bureau_DAYS_CREDIT_count</th>\n",
       "      <th>bureau_DAYS_CREDIT_ENDDATE_mean</th>\n",
       "      <th>bureau_DAYS_CREDIT_ENDDATE_sum</th>\n",
       "      <th>bureau_DAYS_CREDIT_ENDDATE_max</th>\n",
       "      <th>bureau_AMT_ANNUITY_mean</th>\n",
       "      <th>bureau_AMT_ANNUITY_max</th>\n",
       "      <th>bureau_AMT_ANNUITY_sum</th>\n",
       "      <th>bureau_AMT_CREDIT_SUM_DEBT_mean</th>\n",
       "      <th>bureau_AMT_CREDIT_SUM_min</th>\n",
       "      <th>SK_ID_CURR</th>\n",
       "      <th>bureau_AMT_CREDIT_SUM_mean</th>\n",
       "      <th>bureau_AMT_CREDIT_SUM_DEBT_max</th>\n",
       "      <th>bureau_AMT_CREDIT_SUM_max</th>\n",
       "      <th>bureau_AMT_CREDIT_SUM_DEBT_sum</th>\n",
       "      <th>bureau_AMT_CREDIT_SUM_sum</th>\n",
       "      <th>bureau_AMT_CREDIT_MAX_OVERDUE_min</th>\n",
       "      <th>bureau_AMT_CREDIT_MAX_OVERDUE_mean</th>\n",
       "      <th>bureau_AMT_CREDIT_MAX_OVERDUE_max</th>\n",
       "    </tr>\n",
       "  </thead>\n",
       "  <tbody>\n",
       "    <tr>\n",
       "      <th>0</th>\n",
       "      <td>-5145</td>\n",
       "      <td>-3302.0</td>\n",
       "      <td>-1572</td>\n",
       "      <td>-1329.0</td>\n",
       "      <td>-1328.0</td>\n",
       "      <td>-825.5</td>\n",
       "      <td>-735.0</td>\n",
       "      <td>-652</td>\n",
       "      <td>-544.0</td>\n",
       "      <td>-155</td>\n",
       "      <td>-93.142857</td>\n",
       "      <td>-49</td>\n",
       "      <td>-6</td>\n",
       "      <td>0</td>\n",
       "      <td>0</td>\n",
       "      <td>0.0</td>\n",
       "      <td>0.0</td>\n",
       "      <td>0</td>\n",
       "      <td>0</td>\n",
       "      <td>0.0</td>\n",
       "      <td>0.0</td>\n",
       "      <td>0.0</td>\n",
       "      <td>0.0</td>\n",
       "      <td>0</td>\n",
       "      <td>0</td>\n",
       "      <td>0.0</td>\n",
       "      <td>0.0</td>\n",
       "      <td>0.0</td>\n",
       "      <td>0</td>\n",
       "      <td>0.00000</td>\n",
       "      <td>0.000</td>\n",
       "      <td>0.000</td>\n",
       "      <td>0.000</td>\n",
       "      <td>4</td>\n",
       "      <td>6</td>\n",
       "      <td>7</td>\n",
       "      <td>7</td>\n",
       "      <td>7</td>\n",
       "      <td>7</td>\n",
       "      <td>7</td>\n",
       "      <td>82.428571</td>\n",
       "      <td>577.0</td>\n",
       "      <td>1778.0</td>\n",
       "      <td>3545.357143</td>\n",
       "      <td>10822.5</td>\n",
       "      <td>24817.5</td>\n",
       "      <td>85240.928571</td>\n",
       "      <td>85500.0</td>\n",
       "      <td>100001</td>\n",
       "      <td>207623.571429</td>\n",
       "      <td>373239.0</td>\n",
       "      <td>378000.0</td>\n",
       "      <td>596686.5</td>\n",
       "      <td>1453365.000</td>\n",
       "      <td>NaN</td>\n",
       "      <td>NaN</td>\n",
       "      <td>NaN</td>\n",
       "    </tr>\n",
       "    <tr>\n",
       "      <th>1</th>\n",
       "      <td>-6992</td>\n",
       "      <td>-4185.0</td>\n",
       "      <td>-1437</td>\n",
       "      <td>-1072.0</td>\n",
       "      <td>-1185.0</td>\n",
       "      <td>-697.5</td>\n",
       "      <td>-874.0</td>\n",
       "      <td>-3999</td>\n",
       "      <td>-36.0</td>\n",
       "      <td>-1185</td>\n",
       "      <td>-499.875000</td>\n",
       "      <td>-103</td>\n",
       "      <td>-7</td>\n",
       "      <td>0</td>\n",
       "      <td>0</td>\n",
       "      <td>0.0</td>\n",
       "      <td>0.0</td>\n",
       "      <td>0</td>\n",
       "      <td>0</td>\n",
       "      <td>0.0</td>\n",
       "      <td>0.0</td>\n",
       "      <td>0.0</td>\n",
       "      <td>0.0</td>\n",
       "      <td>0</td>\n",
       "      <td>0</td>\n",
       "      <td>0.0</td>\n",
       "      <td>0.0</td>\n",
       "      <td>0.0</td>\n",
       "      <td>5</td>\n",
       "      <td>7997.14125</td>\n",
       "      <td>8405.145</td>\n",
       "      <td>31988.565</td>\n",
       "      <td>31988.565</td>\n",
       "      <td>6</td>\n",
       "      <td>4</td>\n",
       "      <td>5</td>\n",
       "      <td>6</td>\n",
       "      <td>7</td>\n",
       "      <td>8</td>\n",
       "      <td>8</td>\n",
       "      <td>-349.000000</td>\n",
       "      <td>-2094.0</td>\n",
       "      <td>780.0</td>\n",
       "      <td>0.000000</td>\n",
       "      <td>0.0</td>\n",
       "      <td>0.0</td>\n",
       "      <td>49156.200000</td>\n",
       "      <td>0.0</td>\n",
       "      <td>100002</td>\n",
       "      <td>108131.945625</td>\n",
       "      <td>245781.0</td>\n",
       "      <td>450000.0</td>\n",
       "      <td>245781.0</td>\n",
       "      <td>865055.565</td>\n",
       "      <td>0.0</td>\n",
       "      <td>1681.029</td>\n",
       "      <td>5043.645</td>\n",
       "    </tr>\n",
       "  </tbody>\n",
       "</table>\n",
       "</div>"
      ],
      "text/plain": [
       "   bureau_DAYS_CREDIT_sum  bureau_DAYS_ENDDATE_FACT_sum  \\\n",
       "0                   -5145                       -3302.0   \n",
       "1                   -6992                       -4185.0   \n",
       "\n",
       "   bureau_DAYS_CREDIT_min  bureau_DAYS_CREDIT_ENDDATE_min  \\\n",
       "0                   -1572                         -1329.0   \n",
       "1                   -1437                         -1072.0   \n",
       "\n",
       "   bureau_DAYS_ENDDATE_FACT_min  bureau_DAYS_ENDDATE_FACT_mean  \\\n",
       "0                       -1328.0                         -825.5   \n",
       "1                       -1185.0                         -697.5   \n",
       "\n",
       "   bureau_DAYS_CREDIT_mean  bureau_DAYS_CREDIT_UPDATE_sum  \\\n",
       "0                   -735.0                           -652   \n",
       "1                   -874.0                          -3999   \n",
       "\n",
       "   bureau_DAYS_ENDDATE_FACT_max  bureau_DAYS_CREDIT_UPDATE_min  \\\n",
       "0                        -544.0                           -155   \n",
       "1                         -36.0                          -1185   \n",
       "\n",
       "   bureau_DAYS_CREDIT_UPDATE_mean  bureau_DAYS_CREDIT_max  \\\n",
       "0                      -93.142857                     -49   \n",
       "1                     -499.875000                    -103   \n",
       "\n",
       "   bureau_DAYS_CREDIT_UPDATE_max  bureau_CNT_CREDIT_PROLONG_min  \\\n",
       "0                             -6                              0   \n",
       "1                             -7                              0   \n",
       "\n",
       "   bureau_CREDIT_DAY_OVERDUE_min  bureau_AMT_CREDIT_SUM_OVERDUE_min  \\\n",
       "0                              0                                0.0   \n",
       "1                              0                                0.0   \n",
       "\n",
       "   bureau_CREDIT_DAY_OVERDUE_mean  bureau_CREDIT_DAY_OVERDUE_max  \\\n",
       "0                             0.0                              0   \n",
       "1                             0.0                              0   \n",
       "\n",
       "   bureau_CREDIT_DAY_OVERDUE_sum  bureau_AMT_CREDIT_SUM_OVERDUE_mean  \\\n",
       "0                              0                                 0.0   \n",
       "1                              0                                 0.0   \n",
       "\n",
       "   bureau_AMT_CREDIT_SUM_OVERDUE_max  bureau_AMT_CREDIT_SUM_OVERDUE_sum  \\\n",
       "0                                0.0                                0.0   \n",
       "1                                0.0                                0.0   \n",
       "\n",
       "   bureau_CNT_CREDIT_PROLONG_mean  bureau_CNT_CREDIT_PROLONG_max  \\\n",
       "0                             0.0                              0   \n",
       "1                             0.0                              0   \n",
       "\n",
       "   bureau_CNT_CREDIT_PROLONG_sum  bureau_AMT_CREDIT_SUM_DEBT_min  \\\n",
       "0                              0                             0.0   \n",
       "1                              0                             0.0   \n",
       "\n",
       "   bureau_AMT_CREDIT_SUM_LIMIT_min  bureau_AMT_ANNUITY_min  \\\n",
       "0                              0.0                     0.0   \n",
       "1                              0.0                     0.0   \n",
       "\n",
       "   bureau_AMT_CREDIT_MAX_OVERDUE_count  bureau_AMT_CREDIT_SUM_LIMIT_mean  \\\n",
       "0                                    0                           0.00000   \n",
       "1                                    5                        7997.14125   \n",
       "\n",
       "   bureau_AMT_CREDIT_MAX_OVERDUE_sum  bureau_AMT_CREDIT_SUM_LIMIT_sum  \\\n",
       "0                              0.000                            0.000   \n",
       "1                           8405.145                        31988.565   \n",
       "\n",
       "   bureau_AMT_CREDIT_SUM_LIMIT_max  bureau_DAYS_ENDDATE_FACT_count  \\\n",
       "0                            0.000                               4   \n",
       "1                        31988.565                               6   \n",
       "\n",
       "   bureau_AMT_CREDIT_SUM_LIMIT_count  bureau_AMT_CREDIT_SUM_DEBT_count  \\\n",
       "0                                  6                                 7   \n",
       "1                                  4                                 5   \n",
       "\n",
       "   bureau_DAYS_CREDIT_ENDDATE_count  bureau_AMT_ANNUITY_count  \\\n",
       "0                                 7                         7   \n",
       "1                                 6                         7   \n",
       "\n",
       "   bureau_AMT_CREDIT_SUM_count  bureau_DAYS_CREDIT_count  \\\n",
       "0                            7                         7   \n",
       "1                            8                         8   \n",
       "\n",
       "   bureau_DAYS_CREDIT_ENDDATE_mean  bureau_DAYS_CREDIT_ENDDATE_sum  \\\n",
       "0                        82.428571                           577.0   \n",
       "1                      -349.000000                         -2094.0   \n",
       "\n",
       "   bureau_DAYS_CREDIT_ENDDATE_max  bureau_AMT_ANNUITY_mean  \\\n",
       "0                          1778.0              3545.357143   \n",
       "1                           780.0                 0.000000   \n",
       "\n",
       "   bureau_AMT_ANNUITY_max  bureau_AMT_ANNUITY_sum  \\\n",
       "0                 10822.5                 24817.5   \n",
       "1                     0.0                     0.0   \n",
       "\n",
       "   bureau_AMT_CREDIT_SUM_DEBT_mean  bureau_AMT_CREDIT_SUM_min  SK_ID_CURR  \\\n",
       "0                     85240.928571                    85500.0      100001   \n",
       "1                     49156.200000                        0.0      100002   \n",
       "\n",
       "   bureau_AMT_CREDIT_SUM_mean  bureau_AMT_CREDIT_SUM_DEBT_max  \\\n",
       "0               207623.571429                        373239.0   \n",
       "1               108131.945625                        245781.0   \n",
       "\n",
       "   bureau_AMT_CREDIT_SUM_max  bureau_AMT_CREDIT_SUM_DEBT_sum  \\\n",
       "0                   378000.0                        596686.5   \n",
       "1                   450000.0                        245781.0   \n",
       "\n",
       "   bureau_AMT_CREDIT_SUM_sum  bureau_AMT_CREDIT_MAX_OVERDUE_min  \\\n",
       "0                1453365.000                                NaN   \n",
       "1                 865055.565                                0.0   \n",
       "\n",
       "   bureau_AMT_CREDIT_MAX_OVERDUE_mean  bureau_AMT_CREDIT_MAX_OVERDUE_max  \n",
       "0                                 NaN                                NaN  \n",
       "1                            1681.029                           5043.645  "
      ]
     },
     "execution_count": 17,
     "metadata": {},
     "output_type": "execute_result"
    }
   ],
   "source": [
    "# Aggregates the numeric values in a dataframe. This can\n",
    "# be used to create features for each instance of the grouping variable.\n",
    "bureau_agg = F.agg_numeric(bureau, group_var = 'SK_ID_CURR', df_name = 'bureau')\n",
    "bureau_agg.head(2)"
   ]
  },
  {
   "cell_type": "code",
   "execution_count": 18,
   "metadata": {},
   "outputs": [],
   "source": [
    "# Merge with the training and testing data\n",
    "df_train = df_train.merge(bureau_agg, on = 'SK_ID_CURR', how = 'left')\n",
    "df_test = df_test.merge(bureau_agg, on = 'SK_ID_CURR', how = 'left')"
   ]
  },
  {
   "cell_type": "code",
   "execution_count": 19,
   "metadata": {},
   "outputs": [
    {
     "data": {
      "text/html": [
       "<div>\n",
       "<style scoped>\n",
       "    .dataframe tbody tr th:only-of-type {\n",
       "        vertical-align: middle;\n",
       "    }\n",
       "\n",
       "    .dataframe tbody tr th {\n",
       "        vertical-align: top;\n",
       "    }\n",
       "\n",
       "    .dataframe thead th {\n",
       "        text-align: right;\n",
       "    }\n",
       "</style>\n",
       "<table border=\"1\" class=\"dataframe\">\n",
       "  <thead>\n",
       "    <tr style=\"text-align: right;\">\n",
       "      <th></th>\n",
       "      <th>bureau_CREDIT_TYPE_Mobile operator loan_mean</th>\n",
       "      <th>bureau_CREDIT_TYPE_Mobile operator loan_sum</th>\n",
       "      <th>bureau_CREDIT_TYPE_Loan for purchase of shares (margin lending)_mean</th>\n",
       "      <th>bureau_CREDIT_TYPE_Loan for purchase of shares (margin lending)_sum</th>\n",
       "      <th>bureau_CREDIT_ACTIVE_Bad debt_mean</th>\n",
       "      <th>bureau_CREDIT_ACTIVE_Bad debt_sum</th>\n",
       "      <th>bureau_CREDIT_TYPE_Interbank credit_mean</th>\n",
       "      <th>bureau_CREDIT_TYPE_Interbank credit_sum</th>\n",
       "      <th>bureau_CREDIT_TYPE_Real estate loan_mean</th>\n",
       "      <th>bureau_CREDIT_TYPE_Real estate loan_sum</th>\n",
       "      <th>bureau_CREDIT_CURRENCY_currency 4_mean</th>\n",
       "      <th>bureau_CREDIT_CURRENCY_currency 4_sum</th>\n",
       "      <th>bureau_CREDIT_CURRENCY_currency 3_mean</th>\n",
       "      <th>bureau_CREDIT_CURRENCY_currency 3_sum</th>\n",
       "      <th>bureau_CREDIT_TYPE_Loan for the purchase of equipment_mean</th>\n",
       "      <th>bureau_CREDIT_TYPE_Loan for the purchase of equipment_sum</th>\n",
       "      <th>bureau_CREDIT_TYPE_Cash loan (non-earmarked)_mean</th>\n",
       "      <th>bureau_CREDIT_TYPE_Cash loan (non-earmarked)_sum</th>\n",
       "      <th>bureau_CREDIT_TYPE_Unknown type of loan_mean</th>\n",
       "      <th>bureau_CREDIT_TYPE_Unknown type of loan_sum</th>\n",
       "      <th>bureau_CREDIT_TYPE_Another type of loan_mean</th>\n",
       "      <th>bureau_CREDIT_TYPE_Another type of loan_sum</th>\n",
       "      <th>bureau_CREDIT_TYPE_Loan for working capital replenishment_mean</th>\n",
       "      <th>bureau_CREDIT_TYPE_Loan for working capital replenishment_sum</th>\n",
       "      <th>bureau_CREDIT_CURRENCY_currency 2_mean</th>\n",
       "      <th>bureau_CREDIT_CURRENCY_currency 2_sum</th>\n",
       "      <th>bureau_CREDIT_ACTIVE_Sold_mean</th>\n",
       "      <th>bureau_CREDIT_ACTIVE_Sold_sum</th>\n",
       "      <th>bureau_CREDIT_TYPE_Mortgage_mean</th>\n",
       "      <th>bureau_CREDIT_TYPE_Mortgage_sum</th>\n",
       "      <th>bureau_CREDIT_TYPE_Microloan_mean</th>\n",
       "      <th>bureau_CREDIT_TYPE_Microloan_sum</th>\n",
       "      <th>bureau_CREDIT_TYPE_Car loan_mean</th>\n",
       "      <th>bureau_CREDIT_TYPE_Car loan_sum</th>\n",
       "      <th>bureau_CREDIT_TYPE_Loan for business development_mean</th>\n",
       "      <th>bureau_CREDIT_TYPE_Loan for business development_sum</th>\n",
       "      <th>bureau_CREDIT_TYPE_Credit card_mean</th>\n",
       "      <th>bureau_CREDIT_TYPE_Credit card_sum</th>\n",
       "      <th>bureau_CREDIT_ACTIVE_Active_mean</th>\n",
       "      <th>bureau_CREDIT_ACTIVE_Closed_mean</th>\n",
       "      <th>bureau_CREDIT_TYPE_Consumer credit_mean</th>\n",
       "      <th>bureau_CREDIT_CURRENCY_currency 1_mean</th>\n",
       "      <th>bureau_CREDIT_ACTIVE_Active_sum</th>\n",
       "      <th>bureau_CREDIT_ACTIVE_Closed_sum</th>\n",
       "      <th>bureau_CREDIT_TYPE_Consumer credit_sum</th>\n",
       "      <th>bureau_CREDIT_CURRENCY_currency 1_sum</th>\n",
       "      <th>bureau_CREDIT_ACTIVE_Active_count</th>\n",
       "      <th>SK_ID_CURR</th>\n",
       "    </tr>\n",
       "  </thead>\n",
       "  <tbody>\n",
       "    <tr>\n",
       "      <th>0</th>\n",
       "      <td>0.0</td>\n",
       "      <td>0</td>\n",
       "      <td>0.0</td>\n",
       "      <td>0</td>\n",
       "      <td>0.0</td>\n",
       "      <td>0</td>\n",
       "      <td>0.0</td>\n",
       "      <td>0</td>\n",
       "      <td>0.0</td>\n",
       "      <td>0</td>\n",
       "      <td>0.0</td>\n",
       "      <td>0</td>\n",
       "      <td>0.0</td>\n",
       "      <td>0</td>\n",
       "      <td>0.0</td>\n",
       "      <td>0</td>\n",
       "      <td>0.0</td>\n",
       "      <td>0</td>\n",
       "      <td>0.0</td>\n",
       "      <td>0</td>\n",
       "      <td>0.0</td>\n",
       "      <td>0</td>\n",
       "      <td>0.0</td>\n",
       "      <td>0</td>\n",
       "      <td>0.0</td>\n",
       "      <td>0</td>\n",
       "      <td>0.0</td>\n",
       "      <td>0</td>\n",
       "      <td>0.0</td>\n",
       "      <td>0</td>\n",
       "      <td>0.0</td>\n",
       "      <td>0</td>\n",
       "      <td>0.0</td>\n",
       "      <td>0</td>\n",
       "      <td>0.0</td>\n",
       "      <td>0</td>\n",
       "      <td>0.0</td>\n",
       "      <td>0</td>\n",
       "      <td>0.428571</td>\n",
       "      <td>0.571429</td>\n",
       "      <td>1.0</td>\n",
       "      <td>1.0</td>\n",
       "      <td>3</td>\n",
       "      <td>4</td>\n",
       "      <td>7</td>\n",
       "      <td>7</td>\n",
       "      <td>7</td>\n",
       "      <td>100001</td>\n",
       "    </tr>\n",
       "    <tr>\n",
       "      <th>1</th>\n",
       "      <td>0.0</td>\n",
       "      <td>0</td>\n",
       "      <td>0.0</td>\n",
       "      <td>0</td>\n",
       "      <td>0.0</td>\n",
       "      <td>0</td>\n",
       "      <td>0.0</td>\n",
       "      <td>0</td>\n",
       "      <td>0.0</td>\n",
       "      <td>0</td>\n",
       "      <td>0.0</td>\n",
       "      <td>0</td>\n",
       "      <td>0.0</td>\n",
       "      <td>0</td>\n",
       "      <td>0.0</td>\n",
       "      <td>0</td>\n",
       "      <td>0.0</td>\n",
       "      <td>0</td>\n",
       "      <td>0.0</td>\n",
       "      <td>0</td>\n",
       "      <td>0.0</td>\n",
       "      <td>0</td>\n",
       "      <td>0.0</td>\n",
       "      <td>0</td>\n",
       "      <td>0.0</td>\n",
       "      <td>0</td>\n",
       "      <td>0.0</td>\n",
       "      <td>0</td>\n",
       "      <td>0.0</td>\n",
       "      <td>0</td>\n",
       "      <td>0.0</td>\n",
       "      <td>0</td>\n",
       "      <td>0.0</td>\n",
       "      <td>0</td>\n",
       "      <td>0.0</td>\n",
       "      <td>0</td>\n",
       "      <td>0.5</td>\n",
       "      <td>4</td>\n",
       "      <td>0.250000</td>\n",
       "      <td>0.750000</td>\n",
       "      <td>0.5</td>\n",
       "      <td>1.0</td>\n",
       "      <td>2</td>\n",
       "      <td>6</td>\n",
       "      <td>4</td>\n",
       "      <td>8</td>\n",
       "      <td>8</td>\n",
       "      <td>100002</td>\n",
       "    </tr>\n",
       "  </tbody>\n",
       "</table>\n",
       "</div>"
      ],
      "text/plain": [
       "   bureau_CREDIT_TYPE_Mobile operator loan_mean  \\\n",
       "0                                           0.0   \n",
       "1                                           0.0   \n",
       "\n",
       "   bureau_CREDIT_TYPE_Mobile operator loan_sum  \\\n",
       "0                                            0   \n",
       "1                                            0   \n",
       "\n",
       "   bureau_CREDIT_TYPE_Loan for purchase of shares (margin lending)_mean  \\\n",
       "0                                                                   0.0   \n",
       "1                                                                   0.0   \n",
       "\n",
       "   bureau_CREDIT_TYPE_Loan for purchase of shares (margin lending)_sum  \\\n",
       "0                                                                    0   \n",
       "1                                                                    0   \n",
       "\n",
       "   bureau_CREDIT_ACTIVE_Bad debt_mean  bureau_CREDIT_ACTIVE_Bad debt_sum  \\\n",
       "0                                 0.0                                  0   \n",
       "1                                 0.0                                  0   \n",
       "\n",
       "   bureau_CREDIT_TYPE_Interbank credit_mean  \\\n",
       "0                                       0.0   \n",
       "1                                       0.0   \n",
       "\n",
       "   bureau_CREDIT_TYPE_Interbank credit_sum  \\\n",
       "0                                        0   \n",
       "1                                        0   \n",
       "\n",
       "   bureau_CREDIT_TYPE_Real estate loan_mean  \\\n",
       "0                                       0.0   \n",
       "1                                       0.0   \n",
       "\n",
       "   bureau_CREDIT_TYPE_Real estate loan_sum  \\\n",
       "0                                        0   \n",
       "1                                        0   \n",
       "\n",
       "   bureau_CREDIT_CURRENCY_currency 4_mean  \\\n",
       "0                                     0.0   \n",
       "1                                     0.0   \n",
       "\n",
       "   bureau_CREDIT_CURRENCY_currency 4_sum  \\\n",
       "0                                      0   \n",
       "1                                      0   \n",
       "\n",
       "   bureau_CREDIT_CURRENCY_currency 3_mean  \\\n",
       "0                                     0.0   \n",
       "1                                     0.0   \n",
       "\n",
       "   bureau_CREDIT_CURRENCY_currency 3_sum  \\\n",
       "0                                      0   \n",
       "1                                      0   \n",
       "\n",
       "   bureau_CREDIT_TYPE_Loan for the purchase of equipment_mean  \\\n",
       "0                                                         0.0   \n",
       "1                                                         0.0   \n",
       "\n",
       "   bureau_CREDIT_TYPE_Loan for the purchase of equipment_sum  \\\n",
       "0                                                          0   \n",
       "1                                                          0   \n",
       "\n",
       "   bureau_CREDIT_TYPE_Cash loan (non-earmarked)_mean  \\\n",
       "0                                                0.0   \n",
       "1                                                0.0   \n",
       "\n",
       "   bureau_CREDIT_TYPE_Cash loan (non-earmarked)_sum  \\\n",
       "0                                                 0   \n",
       "1                                                 0   \n",
       "\n",
       "   bureau_CREDIT_TYPE_Unknown type of loan_mean  \\\n",
       "0                                           0.0   \n",
       "1                                           0.0   \n",
       "\n",
       "   bureau_CREDIT_TYPE_Unknown type of loan_sum  \\\n",
       "0                                            0   \n",
       "1                                            0   \n",
       "\n",
       "   bureau_CREDIT_TYPE_Another type of loan_mean  \\\n",
       "0                                           0.0   \n",
       "1                                           0.0   \n",
       "\n",
       "   bureau_CREDIT_TYPE_Another type of loan_sum  \\\n",
       "0                                            0   \n",
       "1                                            0   \n",
       "\n",
       "   bureau_CREDIT_TYPE_Loan for working capital replenishment_mean  \\\n",
       "0                                                             0.0   \n",
       "1                                                             0.0   \n",
       "\n",
       "   bureau_CREDIT_TYPE_Loan for working capital replenishment_sum  \\\n",
       "0                                                              0   \n",
       "1                                                              0   \n",
       "\n",
       "   bureau_CREDIT_CURRENCY_currency 2_mean  \\\n",
       "0                                     0.0   \n",
       "1                                     0.0   \n",
       "\n",
       "   bureau_CREDIT_CURRENCY_currency 2_sum  bureau_CREDIT_ACTIVE_Sold_mean  \\\n",
       "0                                      0                             0.0   \n",
       "1                                      0                             0.0   \n",
       "\n",
       "   bureau_CREDIT_ACTIVE_Sold_sum  bureau_CREDIT_TYPE_Mortgage_mean  \\\n",
       "0                              0                               0.0   \n",
       "1                              0                               0.0   \n",
       "\n",
       "   bureau_CREDIT_TYPE_Mortgage_sum  bureau_CREDIT_TYPE_Microloan_mean  \\\n",
       "0                                0                                0.0   \n",
       "1                                0                                0.0   \n",
       "\n",
       "   bureau_CREDIT_TYPE_Microloan_sum  bureau_CREDIT_TYPE_Car loan_mean  \\\n",
       "0                                 0                               0.0   \n",
       "1                                 0                               0.0   \n",
       "\n",
       "   bureau_CREDIT_TYPE_Car loan_sum  \\\n",
       "0                                0   \n",
       "1                                0   \n",
       "\n",
       "   bureau_CREDIT_TYPE_Loan for business development_mean  \\\n",
       "0                                                    0.0   \n",
       "1                                                    0.0   \n",
       "\n",
       "   bureau_CREDIT_TYPE_Loan for business development_sum  \\\n",
       "0                                                     0   \n",
       "1                                                     0   \n",
       "\n",
       "   bureau_CREDIT_TYPE_Credit card_mean  bureau_CREDIT_TYPE_Credit card_sum  \\\n",
       "0                                  0.0                                   0   \n",
       "1                                  0.5                                   4   \n",
       "\n",
       "   bureau_CREDIT_ACTIVE_Active_mean  bureau_CREDIT_ACTIVE_Closed_mean  \\\n",
       "0                          0.428571                          0.571429   \n",
       "1                          0.250000                          0.750000   \n",
       "\n",
       "   bureau_CREDIT_TYPE_Consumer credit_mean  \\\n",
       "0                                      1.0   \n",
       "1                                      0.5   \n",
       "\n",
       "   bureau_CREDIT_CURRENCY_currency 1_mean  bureau_CREDIT_ACTIVE_Active_sum  \\\n",
       "0                                     1.0                                3   \n",
       "1                                     1.0                                2   \n",
       "\n",
       "   bureau_CREDIT_ACTIVE_Closed_sum  bureau_CREDIT_TYPE_Consumer credit_sum  \\\n",
       "0                                4                                       7   \n",
       "1                                6                                       4   \n",
       "\n",
       "   bureau_CREDIT_CURRENCY_currency 1_sum  bureau_CREDIT_ACTIVE_Active_count  \\\n",
       "0                                      7                                  7   \n",
       "1                                      8                                  8   \n",
       "\n",
       "   SK_ID_CURR  \n",
       "0      100001  \n",
       "1      100002  "
      ]
     },
     "execution_count": 19,
     "metadata": {},
     "output_type": "execute_result"
    }
   ],
   "source": [
    "#Computes counts and normalized counts for each observation\n",
    "#of `group_var` of each unique category in every categorical variable\n",
    "bureau_counts = F.count_categorical(bureau, group_var = 'SK_ID_CURR', df_name = 'bureau')\n",
    "bureau_counts.head(2)"
   ]
  },
  {
   "cell_type": "code",
   "execution_count": 20,
   "metadata": {},
   "outputs": [],
   "source": [
    "# Merge with the training and testing data\n",
    "df_train = df_train.merge(bureau_counts, on = 'SK_ID_CURR', how = 'left')\n",
    "df_test = df_test.merge(bureau_counts, on = 'SK_ID_CURR', how = 'left')"
   ]
  },
  {
   "cell_type": "code",
   "execution_count": 21,
   "metadata": {},
   "outputs": [],
   "source": [
    "df_train.to_csv('predictions/df_train_main_buro.csv')\n",
    "df_test.to_csv('predictions/df_test_main_buro.csv')"
   ]
  },
  {
   "cell_type": "code",
   "execution_count": 22,
   "metadata": {},
   "outputs": [
    {
     "name": "stdout",
     "output_type": "stream",
     "text": [
      "Training Data Shape:  (307511, 345)\n",
      "Testing Data Shape:  (48744, 345)\n",
      "Training until validation scores don't improve for 100 rounds.\n",
      "[200]\tvalid's auc: 0.767711\ttrain's auc: 0.813832\n",
      "[400]\tvalid's auc: 0.767632\ttrain's auc: 0.846474\n",
      "Early stopping, best iteration is:\n",
      "[341]\tvalid's auc: 0.768147\ttrain's auc: 0.838007\n",
      "Training until validation scores don't improve for 100 rounds.\n",
      "[200]\tvalid's auc: 0.771819\ttrain's auc: 0.813676\n",
      "Early stopping, best iteration is:\n",
      "[247]\tvalid's auc: 0.771913\ttrain's auc: 0.822277\n",
      "Training until validation scores don't improve for 100 rounds.\n",
      "[200]\tvalid's auc: 0.775981\ttrain's auc: 0.81262\n",
      "[400]\tvalid's auc: 0.776689\ttrain's auc: 0.845945\n",
      "Early stopping, best iteration is:\n",
      "[366]\tvalid's auc: 0.777051\ttrain's auc: 0.840793\n",
      "Training until validation scores don't improve for 100 rounds.\n",
      "[200]\tvalid's auc: 0.771705\ttrain's auc: 0.813415\n",
      "Early stopping, best iteration is:\n",
      "[245]\tvalid's auc: 0.772121\ttrain's auc: 0.821984\n",
      "Training until validation scores don't improve for 100 rounds.\n",
      "[200]\tvalid's auc: 0.770075\ttrain's auc: 0.813631\n",
      "[400]\tvalid's auc: 0.770469\ttrain's auc: 0.846573\n",
      "Early stopping, best iteration is:\n",
      "[327]\tvalid's auc: 0.770991\ttrain's auc: 0.836078\n"
     ]
    },
    {
     "ename": "NameError",
     "evalue": "name 'metrics1' is not defined",
     "output_type": "error",
     "traceback": [
      "\u001b[0;31m---------------------------------------------------------------------------\u001b[0m",
      "\u001b[0;31mNameError\u001b[0m                                 Traceback (most recent call last)",
      "\u001b[0;32m<ipython-input-22-f60360e7dd32>\u001b[0m in \u001b[0;36m<module>\u001b[0;34m()\u001b[0m\n\u001b[1;32m      1\u001b[0m \u001b[0msubmission\u001b[0m\u001b[0;34m,\u001b[0m \u001b[0mfi\u001b[0m\u001b[0;34m,\u001b[0m \u001b[0mmetrics\u001b[0m \u001b[0;34m=\u001b[0m \u001b[0mF\u001b[0m\u001b[0;34m.\u001b[0m\u001b[0mmodel\u001b[0m\u001b[0;34m(\u001b[0m\u001b[0mdf_train\u001b[0m\u001b[0;34m,\u001b[0m \u001b[0mdf_test\u001b[0m\u001b[0;34m)\u001b[0m\u001b[0;34m\u001b[0m\u001b[0m\n\u001b[0;32m----> 2\u001b[0;31m \u001b[0mprint\u001b[0m\u001b[0;34m(\u001b[0m\u001b[0mmetrics1\u001b[0m\u001b[0;34m)\u001b[0m\u001b[0;34m\u001b[0m\u001b[0m\n\u001b[0m",
      "\u001b[0;31mNameError\u001b[0m: name 'metrics1' is not defined"
     ]
    }
   ],
   "source": [
    "submission, fi, metrics = F.model(df_train, df_test)\n"
   ]
  },
  {
   "cell_type": "code",
   "execution_count": 23,
   "metadata": {},
   "outputs": [
    {
     "name": "stdout",
     "output_type": "stream",
     "text": [
      "      fold     train     valid\n",
      "0        0  0.838007  0.768147\n",
      "1        1  0.822277  0.771913\n",
      "2        2  0.840793  0.777051\n",
      "3        3  0.821984  0.772121\n",
      "4        4  0.836078  0.770991\n",
      "5  overall  0.831828  0.772025\n"
     ]
    }
   ],
   "source": [
    "print(metrics)"
   ]
  },
  {
   "cell_type": "code",
   "execution_count": 24,
   "metadata": {},
   "outputs": [
    {
     "data": {
      "image/png": "[encoded data removed]",
      "text/plain": [
       "<matplotlib.figure.Figure at 0x10e8d8630>"
      ]
     },
     "metadata": {
      "image/png": {
       "height": 607,
       "width": 778
      }
     },
     "output_type": "display_data"
    }
   ],
   "source": [
    "feat_import_series = F.plot_feature_importances(fi,n_show=25)"
   ]
  },
  {
   "cell_type": "code",
   "execution_count": null,
   "metadata": {},
   "outputs": [],
   "source": [
    "submission1.to_csv('submissions/app_bureau.csv', index=False)"
   ]
  },
  {
   "cell_type": "markdown",
   "metadata": {},
   "source": [
    "Kaggle score:`0.77137`"
   ]
  },
  {
   "cell_type": "markdown",
   "metadata": {},
   "source": [
    "# Current Application - Bureau - Bureau Balance (level2)"
   ]
  },
  {
   "cell_type": "markdown",
   "metadata": {},
   "source": [
    "**bureau_balance:** Monthly balances of previous credits in Credit Bureau. This table has one row for each month of history of every previous credit reported to Credit Bureau – i.e the table has (#loans in sample # of relative previous credits # of months where we have some history observable for the previous credits) rows.\n",
    "\n",
    "Parent: bureau | Child: bureau_balance Relationship: 1 to many (level1)\n",
    "\n",
    "Parent: application | Child: bureau + Child: bureau_balance Relationship: 1 to many (level2)\n"
   ]
  },
  {
   "cell_type": "code",
   "execution_count": 25,
   "metadata": {},
   "outputs": [],
   "source": [
    "bureau_balance = pd.read_csv('data/bureau_balance.csv.zip')"
   ]
  },
  {
   "cell_type": "code",
   "execution_count": 26,
   "metadata": {},
   "outputs": [
    {
     "data": {
      "text/html": [
       "<div>\n",
       "<style scoped>\n",
       "    .dataframe tbody tr th:only-of-type {\n",
       "        vertical-align: middle;\n",
       "    }\n",
       "\n",
       "    .dataframe tbody tr th {\n",
       "        vertical-align: top;\n",
       "    }\n",
       "\n",
       "    .dataframe thead th {\n",
       "        text-align: right;\n",
       "    }\n",
       "</style>\n",
       "<table border=\"1\" class=\"dataframe\">\n",
       "  <thead>\n",
       "    <tr style=\"text-align: right;\">\n",
       "      <th></th>\n",
       "      <th>SK_ID_BUREAU</th>\n",
       "      <th>MONTHS_BALANCE</th>\n",
       "      <th>STATUS</th>\n",
       "    </tr>\n",
       "  </thead>\n",
       "  <tbody>\n",
       "    <tr>\n",
       "      <th>0</th>\n",
       "      <td>5715448</td>\n",
       "      <td>0</td>\n",
       "      <td>C</td>\n",
       "    </tr>\n",
       "    <tr>\n",
       "      <th>1</th>\n",
       "      <td>5715448</td>\n",
       "      <td>-1</td>\n",
       "      <td>C</td>\n",
       "    </tr>\n",
       "    <tr>\n",
       "      <th>2</th>\n",
       "      <td>5715448</td>\n",
       "      <td>-2</td>\n",
       "      <td>C</td>\n",
       "    </tr>\n",
       "    <tr>\n",
       "      <th>3</th>\n",
       "      <td>5715448</td>\n",
       "      <td>-3</td>\n",
       "      <td>C</td>\n",
       "    </tr>\n",
       "    <tr>\n",
       "      <th>4</th>\n",
       "      <td>5715448</td>\n",
       "      <td>-4</td>\n",
       "      <td>C</td>\n",
       "    </tr>\n",
       "  </tbody>\n",
       "</table>\n",
       "</div>"
      ],
      "text/plain": [
       "   SK_ID_BUREAU  MONTHS_BALANCE STATUS\n",
       "0       5715448               0      C\n",
       "1       5715448              -1      C\n",
       "2       5715448              -2      C\n",
       "3       5715448              -3      C\n",
       "4       5715448              -4      C"
      ]
     },
     "execution_count": 26,
     "metadata": {},
     "output_type": "execute_result"
    }
   ],
   "source": [
    "bureau_balance.head()"
   ]
  },
  {
   "cell_type": "code",
   "execution_count": 27,
   "metadata": {},
   "outputs": [
    {
     "data": {
      "text/plain": [
       "STATUS    8\n",
       "dtype: int64"
      ]
     },
     "execution_count": 27,
     "metadata": {},
     "output_type": "execute_result"
    }
   ],
   "source": [
    "bureau_balance.select_dtypes('object').apply(pd.Series.nunique)"
   ]
  },
  {
   "cell_type": "code",
   "execution_count": null,
   "metadata": {},
   "outputs": [],
   "source": [
    "bureau_agg, bureau_count = F.parent_child_df(parent_df=bureau,\n",
    "    child_dfs=[bureau_balance],parent_id_name='SK_ID_CURR',child_id_name='SK_ID_BUREAU',\n",
    "    group_names=['bu_balance','bureau'])"
   ]
  },
  {
   "cell_type": "code",
   "execution_count": null,
   "metadata": {},
   "outputs": [],
   "source": [
    "df_train4 = df_train.merge(bureau_count2, on = 'SK_ID_CURR', how = 'left')\n",
    "df_test4 = df_test.merge(bureau_count2, on = 'SK_ID_CURR', how = 'left')\n",
    "df_train4 = df_train4.merge(bureau_agg2, on = 'SK_ID_CURR', how = 'left')\n",
    "df_test4 = df_test4.merge(bureau_agg2, on = 'SK_ID_CURR', how = 'left')"
   ]
  },
  {
   "cell_type": "code",
   "execution_count": null,
   "metadata": {},
   "outputs": [],
   "source": [
    "print(df_train4.shape)\n",
    "print(df_test4.shape)"
   ]
  },
  {
   "cell_type": "code",
   "execution_count": null,
   "metadata": {},
   "outputs": [],
   "source": [
    "submission4, fi4, metrics4 = F.model(df_train4, df_test4)\n",
    "print(metrics4)"
   ]
  },
  {
   "cell_type": "code",
   "execution_count": null,
   "metadata": {},
   "outputs": [],
   "source": [
    "submission4.to_csv('submissions/app_bureau_bureau_balance.csv', index=False)"
   ]
  },
  {
   "cell_type": "markdown",
   "metadata": {},
   "source": [
    "Kaggle Score:`0.77191`"
   ]
  },
  {
   "cell_type": "code",
   "execution_count": null,
   "metadata": {},
   "outputs": [],
   "source": [
    "_ = F.plot_feature_importances(fi4, n_show=20)"
   ]
  },
  {
   "cell_type": "markdown",
   "metadata": {},
   "source": [
    "# Current Application - Previous application (level1)"
   ]
  },
  {
   "cell_type": "code",
   "execution_count": null,
   "metadata": {},
   "outputs": [],
   "source": [
    "previous = pd.read_csv('data/previous_application.csv.zip')"
   ]
  },
  {
   "cell_type": "code",
   "execution_count": null,
   "metadata": {},
   "outputs": [],
   "source": [
    "previous.select_dtypes('object').apply(pd.Series.nunique)"
   ]
  },
  {
   "cell_type": "code",
   "execution_count": null,
   "metadata": {},
   "outputs": [],
   "source": [
    "# Calculate aggregate statistics for each numeric column\n",
    "previous_agg = F.agg_numeric(previous, 'SK_ID_CURR', 'previous')\n",
    "print('Previous aggregation shape: ', previous_agg.shape)"
   ]
  },
  {
   "cell_type": "code",
   "execution_count": null,
   "metadata": {},
   "outputs": [],
   "source": [
    "# Merge with the training and testing data\n",
    "df_train2 = df_train.merge(previous_agg, on = 'SK_ID_CURR', how = 'left')\n",
    "df_test2 = df_test.merge(previous_agg, on = 'SK_ID_CURR', how = 'left')"
   ]
  },
  {
   "cell_type": "code",
   "execution_count": null,
   "metadata": {},
   "outputs": [],
   "source": [
    "print(df_train2.shape)\n",
    "print(df_test2.shape)"
   ]
  },
  {
   "cell_type": "code",
   "execution_count": null,
   "metadata": {},
   "outputs": [],
   "source": [
    "# Calculate value counts for each categorical column\n",
    "previous_counts = F.count_categorical(previous, 'SK_ID_CURR', 'previous')\n",
    "print('Previous counts shape: ', previous_counts.shape)"
   ]
  },
  {
   "cell_type": "code",
   "execution_count": null,
   "metadata": {},
   "outputs": [],
   "source": [
    "previous_counts.head(2)"
   ]
  },
  {
   "cell_type": "code",
   "execution_count": null,
   "metadata": {},
   "outputs": [],
   "source": [
    "df_train2 = df_train2.merge(previous_counts, on = 'SK_ID_CURR', how = 'left')\n",
    "df_test2 = df_test2.merge(previous_counts, on = 'SK_ID_CURR', how = 'left')\n",
    "print(df_train2.shape)\n",
    "print(df_test2.shape)"
   ]
  },
  {
   "cell_type": "code",
   "execution_count": null,
   "metadata": {},
   "outputs": [],
   "source": [
    "submission2, fi2, metrics2 = F.model(df_train2, df_test2)\n",
    "print(metrics2)"
   ]
  },
  {
   "cell_type": "code",
   "execution_count": null,
   "metadata": {},
   "outputs": [],
   "source": [
    "submission2.to_csv('submissions/app_previous.csv', index=False)"
   ]
  },
  {
   "cell_type": "code",
   "execution_count": null,
   "metadata": {},
   "outputs": [],
   "source": [
    "submission2.head()"
   ]
  },
  {
   "cell_type": "markdown",
   "metadata": {},
   "source": [
    "Kaggle score: `0.77137`"
   ]
  },
  {
   "cell_type": "code",
   "execution_count": null,
   "metadata": {
    "scrolled": false
   },
   "outputs": [],
   "source": [
    "_= F.plot_feature_importances(fi2, n_show=30)"
   ]
  },
  {
   "cell_type": "code",
   "execution_count": null,
   "metadata": {},
   "outputs": [],
   "source": [
    "col_name('CNT_PAYMENT')"
   ]
  },
  {
   "cell_type": "markdown",
   "metadata": {},
   "source": [
    "#  Current Application - Previous Application - Bureau (level 1)"
   ]
  },
  {
   "cell_type": "code",
   "execution_count": null,
   "metadata": {},
   "outputs": [],
   "source": [
    "df_train2.head(2)"
   ]
  },
  {
   "cell_type": "code",
   "execution_count": null,
   "metadata": {},
   "outputs": [],
   "source": [
    "df_train3 = df_train2.merge(bureau_counts, on = 'SK_ID_CURR', how = 'left')\n",
    "df_test3 = df_test2.merge(bureau_counts, on = 'SK_ID_CURR', how = 'left')\n",
    "df_train3 = df_train3.merge(bureau_agg, on = 'SK_ID_CURR', how = 'left')\n",
    "df_test3 = df_test3.merge(bureau_agg, on = 'SK_ID_CURR', how = 'left')"
   ]
  },
  {
   "cell_type": "code",
   "execution_count": null,
   "metadata": {},
   "outputs": [],
   "source": [
    "print(df_train3.shape)\n",
    "print(df_test3.shape)"
   ]
  },
  {
   "cell_type": "code",
   "execution_count": null,
   "metadata": {},
   "outputs": [],
   "source": [
    "submission3, fi3, metrics3 = F.model(df_train3, df_test3)\n",
    "print(metrics3)"
   ]
  },
  {
   "cell_type": "code",
   "execution_count": null,
   "metadata": {},
   "outputs": [],
   "source": [
    "submission3.to_csv('submissions/app_previous_bureau.csv', index=False)"
   ]
  },
  {
   "cell_type": "markdown",
   "metadata": {},
   "source": [
    "Kaggle score: `0.77849`"
   ]
  },
  {
   "cell_type": "code",
   "execution_count": null,
   "metadata": {},
   "outputs": [],
   "source": [
    "_ = F.plot_feature_importances(fi3, n_show=35)"
   ]
  },
  {
   "cell_type": "markdown",
   "metadata": {},
   "source": [
    "# 5 Current Application - Previous Application - POS Cash Balance (level2)"
   ]
  },
  {
   "cell_type": "code",
   "execution_count": null,
   "metadata": {},
   "outputs": [],
   "source": [
    "pos_cash = pd.read_csv('data/POS_CASH_balance.csv.zip')"
   ]
  },
  {
   "cell_type": "code",
   "execution_count": null,
   "metadata": {},
   "outputs": [],
   "source": [
    "pos_cash.select_dtypes('object').apply(pd.Series.nunique)"
   ]
  },
  {
   "cell_type": "code",
   "execution_count": null,
   "metadata": {},
   "outputs": [],
   "source": [
    "pos_cash.head()"
   ]
  },
  {
   "cell_type": "code",
   "execution_count": null,
   "metadata": {},
   "outputs": [],
   "source": [
    "previous_agg2, previous_count2 = F.parent_child_df(\n",
    "    previous,pos_cash,['SK_ID_PREV','SK_ID_CURR'],['pos_cash','previous'])"
   ]
  },
  {
   "cell_type": "code",
   "execution_count": null,
   "metadata": {},
   "outputs": [],
   "source": [
    "previous_agg2.head()"
   ]
  },
  {
   "cell_type": "code",
   "execution_count": null,
   "metadata": {},
   "outputs": [],
   "source": [
    "df_train5 = df_train.merge(previous_agg2, on = 'SK_ID_CURR', how = 'left')\n",
    "df_test5 = df_test.merge(previous_agg2, on = 'SK_ID_CURR', how = 'left')\n",
    "df_train5 = df_train5.merge(previous_count2, on = 'SK_ID_CURR', how = 'left')\n",
    "df_test5 = df_test5.merge(previous_count2, on = 'SK_ID_CURR', how = 'left')"
   ]
  },
  {
   "cell_type": "code",
   "execution_count": null,
   "metadata": {},
   "outputs": [],
   "source": [
    "print(df_train5.shape)\n",
    "print(df_test5.shape)"
   ]
  },
  {
   "cell_type": "code",
   "execution_count": null,
   "metadata": {},
   "outputs": [],
   "source": [
    "submission5, fi5, metrics5 = F.model(df_train5, df_test5)\n",
    "print(metrics5)"
   ]
  },
  {
   "cell_type": "code",
   "execution_count": null,
   "metadata": {},
   "outputs": [],
   "source": [
    "_ = F.plot_feature_importances(fi5, n_show=30)"
   ]
  },
  {
   "cell_type": "markdown",
   "metadata": {},
   "source": [
    "# 6 Current Application - Previous Application - POS Cash Balance - Installment - Credit Card balence"
   ]
  },
  {
   "cell_type": "code",
   "execution_count": null,
   "metadata": {},
   "outputs": [],
   "source": [
    "instalments = pd.read_csv('data/installments_payments.csv.zip')"
   ]
  },
  {
   "cell_type": "code",
   "execution_count": null,
   "metadata": {},
   "outputs": [],
   "source": [
    "instalments.select_dtypes('object').apply(pd.Series.nunique)"
   ]
  },
  {
   "cell_type": "code",
   "execution_count": null,
   "metadata": {},
   "outputs": [],
   "source": [
    "credit_card = pd.read_csv('data/credit_card_balance.csv.zip')"
   ]
  },
  {
   "cell_type": "code",
   "execution_count": null,
   "metadata": {},
   "outputs": [],
   "source": [
    "credit_card.select_dtypes('object').apply(pd.Series.nunique)"
   ]
  },
  {
   "cell_type": "code",
   "execution_count": null,
   "metadata": {},
   "outputs": [],
   "source": [
    "credit_card.head()"
   ]
  },
  {
   "cell_type": "code",
   "execution_count": null,
   "metadata": {},
   "outputs": [],
   "source": [
    "pos_cash.head()"
   ]
  },
  {
   "cell_type": "code",
   "execution_count": null,
   "metadata": {},
   "outputs": [],
   "source": [
    "previous_agg3, previous_count3 = F.parent_child_df(parent_df=previous,\n",
    "    child_dfs=[pos_cash,instalments,credit_card],parent_id_name='SK_ID_CURR',child_id_name='SK_ID_PREV',\n",
    "    group_names=['pos_cash','instalments','credit_card','previous'])"
   ]
  },
  {
   "cell_type": "code",
   "execution_count": null,
   "metadata": {},
   "outputs": [],
   "source": [
    "previous_agg3.head()"
   ]
  },
  {
   "cell_type": "code",
   "execution_count": null,
   "metadata": {},
   "outputs": [],
   "source": [
    "df_train6 = df_train.merge(previous_agg3, on = 'SK_ID_CURR', how = 'left')\n",
    "df_test6 = df_test.merge(previous_agg3, on = 'SK_ID_CURR', how = 'left')\n",
    "df_train6 = df_train6.merge(previous_count3, on = 'SK_ID_CURR', how = 'left')\n",
    "df_test6 = df_test6.merge(previous_count3, on = 'SK_ID_CURR', how = 'left')"
   ]
  },
  {
   "cell_type": "code",
   "execution_count": null,
   "metadata": {},
   "outputs": [],
   "source": [
    "print(df_train6.shape)"
   ]
  },
  {
   "cell_type": "code",
   "execution_count": null,
   "metadata": {},
   "outputs": [],
   "source": [
    "submission6, fi6, metrics6 = F.model(df_train6, df_test6)\n",
    "print(metrics6)"
   ]
  },
  {
   "cell_type": "code",
   "execution_count": null,
   "metadata": {},
   "outputs": [],
   "source": [
    "submission6.to_csv('submissions/previous_level2.csv',index=False)"
   ]
  },
  {
   "cell_type": "markdown",
   "metadata": {},
   "source": [
    "Kaggle score: `0.77900`"
   ]
  },
  {
   "cell_type": "code",
   "execution_count": null,
   "metadata": {},
   "outputs": [],
   "source": [
    "_ = F.plot_feature_importances(fi6, n_show=30)"
   ]
  },
  {
   "cell_type": "markdown",
   "metadata": {},
   "source": [
    "# 7 All tables combined"
   ]
  },
  {
   "cell_type": "code",
   "execution_count": null,
   "metadata": {},
   "outputs": [],
   "source": [
    "df_train7 = df_train.merge(previous_agg3, on = 'SK_ID_CURR', how = 'left')\n",
    "df_test7 = df_test.merge(previous_agg3, on = 'SK_ID_CURR', how = 'left')\n",
    "df_train7 = df_train7.merge(previous_count3, on = 'SK_ID_CURR', how = 'left')\n",
    "df_test7 = df_test7.merge(previous_count3, on = 'SK_ID_CURR', how = 'left')\n",
    "\n",
    "df_train7 = df_train7.merge(bureau_count2, on = 'SK_ID_CURR', how = 'left')\n",
    "df_test7 = df_test7.merge(bureau_count2, on = 'SK_ID_CURR', how = 'left')\n",
    "df_train7 = df_train7.merge(bureau_agg2, on = 'SK_ID_CURR', how = 'left')\n",
    "df_test7 = df_test7.merge(bureau_agg2, on = 'SK_ID_CURR', how = 'left')"
   ]
  },
  {
   "cell_type": "code",
   "execution_count": null,
   "metadata": {},
   "outputs": [],
   "source": [
    "submission7, fi7, metrics7 = F.model(df_train7, df_test7)\n",
    "print(metrics7)"
   ]
  },
  {
   "cell_type": "code",
   "execution_count": null,
   "metadata": {},
   "outputs": [],
   "source": [
    "submission7.to_csv('submissions/total_level2.csv',index=False)"
   ]
  },
  {
   "cell_type": "code",
   "execution_count": null,
   "metadata": {},
   "outputs": [],
   "source": [
    "_ = F.plot_feature_importances(fi7, n_show=30)"
   ]
  },
  {
   "cell_type": "markdown",
   "metadata": {},
   "source": [
    "Kaggle score: `0.78734`"
   ]
  },
  {
   "cell_type": "code",
   "execution_count": null,
   "metadata": {},
   "outputs": [],
   "source": [
    "submission8, fi8, metrics8 = F.model(df_train7, df_test7)\n",
    "print(metrics8)"
   ]
  },
  {
   "cell_type": "code",
   "execution_count": null,
   "metadata": {},
   "outputs": [],
   "source": []
  }
 ],
 "metadata": {
  "kernelspec": {
   "display_name": "Python 3",
   "language": "python",
   "name": "python3"
  },
  "language_info": {
   "codemirror_mode": {
    "name": "ipython",
    "version": 3
   },
   "file_extension": ".py",
   "mimetype": "text/x-python",
   "name": "python",
   "nbconvert_exporter": "python",
   "pygments_lexer": "ipython3",
   "version": "3.6.4"
  }
 },
 "nbformat": 4,
 "nbformat_minor": 2
}
